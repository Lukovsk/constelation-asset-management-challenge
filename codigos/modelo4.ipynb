{
 "cells": [
  {
   "cell_type": "code",
   "execution_count": 119,
   "metadata": {},
   "outputs": [],
   "source": [
    "# imports necessary libraries\n",
    "import pandas as pd\n",
    "import numpy as np\n",
    "import matplotlib.pyplot as plt\n",
    "from sklearn.model_selection import TimeSeriesSplit,cross_val_score,GridSearchCV \n",
    "from sklearn.ensemble import RandomForestRegressor\n",
    "from sklearn.preprocessing import PolynomialFeatures,StandardScaler,MinMaxScaler\n",
    "from sklearn.metrics import mean_squared_error,make_scorer\n",
    "from sklearn.neural_network import MLPRegressor"
   ]
  },
  {
   "cell_type": "code",
   "execution_count": 120,
   "metadata": {},
   "outputs": [],
   "source": [
    "# loads dataset\n",
    "df = pd.read_csv(\"../data/challenge/train.csv\")\n",
    "df2 = pd.read_csv(\"../data/challenge/additive.csv\")\n",
    "\n",
    "#adds columns\n",
    "df[\"cap\"] = df2[\"CAPTC_DIA\"]\n",
    "df[\"resg\"] = df2[\"RESG_DIA\"]\n",
    "df.drop([\"Fluxo\"],inplace=True,axis=1)"
   ]
  },
  {
   "cell_type": "code",
   "execution_count": 121,
   "metadata": {},
   "outputs": [
    {
     "name": "stdout",
     "output_type": "stream",
     "text": [
      "                IBOV          Dol           NDX          SPX          cap  \\\n",
      "count    4121.000000  4121.000000   4121.000000  4121.000000  4121.000000   \n",
      "mean    62282.093351     2.760941   4095.586794  1865.906190   261.791485   \n",
      "std     21609.810010     1.068885   2922.936009   759.751023   360.429976   \n",
      "min     23610.000000     1.539100   1036.510000   676.530000     0.000000   \n",
      "25%     49353.000000     1.944200   1840.670000  1271.510000    81.651000   \n",
      "50%     58393.900000     2.305400   2807.300000  1554.520000   139.446000   \n",
      "75%     69729.300000     3.381800   5508.030000  2378.250000   275.322000   \n",
      "max    125076.600000     5.886000  14041.910000  4232.600000  5666.407000   \n",
      "\n",
      "               resg  \n",
      "count   4121.000000  \n",
      "mean     216.305305  \n",
      "std      782.991324  \n",
      "min        0.000000  \n",
      "25%       82.931000  \n",
      "50%      134.265000  \n",
      "75%      215.572000  \n",
      "max    44746.630000  \n",
      "                IBOV          Dol           NDX          SPX          cap  \\\n",
      "count    4121.000000  4121.000000   4121.000000  4121.000000  4121.000000   \n",
      "mean    61407.670662     2.758536   4020.798178  1864.999905   205.751602   \n",
      "std     19660.997685     1.062409   2711.048184   757.077016   171.336360   \n",
      "min     23610.000000     1.539100   1036.510000   676.530000     0.000000   \n",
      "25%     49353.000000     1.944200   1840.670000  1271.510000    81.651000   \n",
      "50%     58393.900000     2.305400   2807.300000  1554.520000   139.446000   \n",
      "75%     69729.300000     3.381800   5508.030000  2378.250000   275.322000   \n",
      "max    100293.750000     5.538200  11009.070000  4038.360000   565.828500   \n",
      "\n",
      "              resg  \n",
      "count  4121.000000  \n",
      "mean    166.809419  \n",
      "std     115.812530  \n",
      "min       0.000000  \n",
      "25%      82.931000  \n",
      "50%     134.265000  \n",
      "75%     215.572000  \n",
      "max     414.533500  \n"
     ]
    }
   ],
   "source": [
    "df = df.drop([\"DT_COMPTC\"], axis=1)\n",
    "def lock_lim(df):\n",
    "    cols = df.columns\n",
    "    for col in cols:\n",
    "        q1 = np.percentile(df[col], 25)\n",
    "        q3 = np.percentile(df[col], 75)\n",
    "        iqr = q3 - q1\n",
    "        ls = q3 + 1.5*iqr\n",
    "        li = q1 - 1.5*iqr\n",
    "        df[col][df[col] < li] = li\n",
    "        df[col][df[col] > ls] = ls\n",
    "    \n",
    "    return df\n",
    "\n",
    "print(df.describe())\n",
    "df = lock_lim(df)\n",
    "print(df.describe())"
   ]
  },
  {
   "cell_type": "code",
   "execution_count": 122,
   "metadata": {},
   "outputs": [],
   "source": [
    "# data_train = df[[\"DT_COMPTC\"]][:3000]\n",
    "\n",
    "#dados de treino\n",
    "X_train = df.drop([\"cap\",\"resg\"],axis=1)[:3000]\n",
    "y_train = df[[\"cap\"]][:3000]\n",
    "\n",
    "#dados de teste\n",
    "X_test = df.drop([\"cap\",\"resg\"],axis=1)[3000:]\n",
    "y_test = df[[\"cap\"]][3000:]"
   ]
  },
  {
   "cell_type": "code",
   "execution_count": 123,
   "metadata": {},
   "outputs": [],
   "source": [
    "# data_train = df[[\"DT_COMPTC\"]][:3000]\n",
    "\n",
    "#dados de treino\n",
    "X_train2 = df.drop([\"resg\",\"cap\"],axis=1)[:3000]\n",
    "y_train2 = df[[\"resg\"]][:3000]\n",
    "\n",
    "#dados de teste\n",
    "X_test2 = df.drop([\"resg\",\"cap\"],axis=1)[3000:]\n",
    "y_test2 = df[[\"resg\"]][3000:]"
   ]
  },
  {
   "cell_type": "code",
   "execution_count": 124,
   "metadata": {},
   "outputs": [],
   "source": [
    "#padroniza os dados\n",
    "scaler = StandardScaler()\n",
    "X_train = scaler.fit_transform(X_train)\n",
    "# y_train = scaler.fit_transform(y_train)\n",
    "X_test = scaler.fit_transform(X_test)\n",
    "# y_test = scaler.fit_transform(y_test)"
   ]
  },
  {
   "cell_type": "code",
   "execution_count": 125,
   "metadata": {},
   "outputs": [],
   "source": [
    "#padroniza os dados\n",
    "scaler = StandardScaler()\n",
    "X_train2 = scaler.fit_transform(X_train)\n",
    "# y_train = scaler.fit_transform(y_train)\n",
    "X_test2 = scaler.fit_transform(X_test)\n",
    "# y_test = scaler.fit_transform(y_test)"
   ]
  },
  {
   "cell_type": "code",
   "execution_count": 126,
   "metadata": {},
   "outputs": [
    {
     "name": "stderr",
     "output_type": "stream",
     "text": [
      "c:\\Users\\Usuario\\AppData\\Local\\Programs\\Python\\Python310\\lib\\site-packages\\sklearn\\neural_network\\_multilayer_perceptron.py:1607: DataConversionWarning: A column-vector y was passed when a 1d array was expected. Please change the shape of y to (n_samples, ), for example using ravel().\n",
      "  y = column_or_1d(y, warn=True)\n"
     ]
    },
    {
     "data": {
      "text/html": [
       "<style>#sk-container-id-5 {color: black;background-color: white;}#sk-container-id-5 pre{padding: 0;}#sk-container-id-5 div.sk-toggleable {background-color: white;}#sk-container-id-5 label.sk-toggleable__label {cursor: pointer;display: block;width: 100%;margin-bottom: 0;padding: 0.3em;box-sizing: border-box;text-align: center;}#sk-container-id-5 label.sk-toggleable__label-arrow:before {content: \"▸\";float: left;margin-right: 0.25em;color: #696969;}#sk-container-id-5 label.sk-toggleable__label-arrow:hover:before {color: black;}#sk-container-id-5 div.sk-estimator:hover label.sk-toggleable__label-arrow:before {color: black;}#sk-container-id-5 div.sk-toggleable__content {max-height: 0;max-width: 0;overflow: hidden;text-align: left;background-color: #f0f8ff;}#sk-container-id-5 div.sk-toggleable__content pre {margin: 0.2em;color: black;border-radius: 0.25em;background-color: #f0f8ff;}#sk-container-id-5 input.sk-toggleable__control:checked~div.sk-toggleable__content {max-height: 200px;max-width: 100%;overflow: auto;}#sk-container-id-5 input.sk-toggleable__control:checked~label.sk-toggleable__label-arrow:before {content: \"▾\";}#sk-container-id-5 div.sk-estimator input.sk-toggleable__control:checked~label.sk-toggleable__label {background-color: #d4ebff;}#sk-container-id-5 div.sk-label input.sk-toggleable__control:checked~label.sk-toggleable__label {background-color: #d4ebff;}#sk-container-id-5 input.sk-hidden--visually {border: 0;clip: rect(1px 1px 1px 1px);clip: rect(1px, 1px, 1px, 1px);height: 1px;margin: -1px;overflow: hidden;padding: 0;position: absolute;width: 1px;}#sk-container-id-5 div.sk-estimator {font-family: monospace;background-color: #f0f8ff;border: 1px dotted black;border-radius: 0.25em;box-sizing: border-box;margin-bottom: 0.5em;}#sk-container-id-5 div.sk-estimator:hover {background-color: #d4ebff;}#sk-container-id-5 div.sk-parallel-item::after {content: \"\";width: 100%;border-bottom: 1px solid gray;flex-grow: 1;}#sk-container-id-5 div.sk-label:hover label.sk-toggleable__label {background-color: #d4ebff;}#sk-container-id-5 div.sk-serial::before {content: \"\";position: absolute;border-left: 1px solid gray;box-sizing: border-box;top: 0;bottom: 0;left: 50%;z-index: 0;}#sk-container-id-5 div.sk-serial {display: flex;flex-direction: column;align-items: center;background-color: white;padding-right: 0.2em;padding-left: 0.2em;position: relative;}#sk-container-id-5 div.sk-item {position: relative;z-index: 1;}#sk-container-id-5 div.sk-parallel {display: flex;align-items: stretch;justify-content: center;background-color: white;position: relative;}#sk-container-id-5 div.sk-item::before, #sk-container-id-5 div.sk-parallel-item::before {content: \"\";position: absolute;border-left: 1px solid gray;box-sizing: border-box;top: 0;bottom: 0;left: 50%;z-index: -1;}#sk-container-id-5 div.sk-parallel-item {display: flex;flex-direction: column;z-index: 1;position: relative;background-color: white;}#sk-container-id-5 div.sk-parallel-item:first-child::after {align-self: flex-end;width: 50%;}#sk-container-id-5 div.sk-parallel-item:last-child::after {align-self: flex-start;width: 50%;}#sk-container-id-5 div.sk-parallel-item:only-child::after {width: 0;}#sk-container-id-5 div.sk-dashed-wrapped {border: 1px dashed gray;margin: 0 0.4em 0.5em 0.4em;box-sizing: border-box;padding-bottom: 0.4em;background-color: white;}#sk-container-id-5 div.sk-label label {font-family: monospace;font-weight: bold;display: inline-block;line-height: 1.2em;}#sk-container-id-5 div.sk-label-container {text-align: center;}#sk-container-id-5 div.sk-container {/* jupyter's `normalize.less` sets `[hidden] { display: none; }` but bootstrap.min.css set `[hidden] { display: none !important; }` so we also need the `!important` here to be able to override the default hidden behavior on the sphinx rendered scikit-learn.org. See: https://github.com/scikit-learn/scikit-learn/issues/21755 */display: inline-block !important;position: relative;}#sk-container-id-5 div.sk-text-repr-fallback {display: none;}</style><div id=\"sk-container-id-5\" class=\"sk-top-container\"><div class=\"sk-text-repr-fallback\"><pre>MLPRegressor(activation=&#x27;identity&#x27;, alpha=0.001, early_stopping=True,\n",
       "             shuffle=False, solver=&#x27;lbfgs&#x27;)</pre><b>In a Jupyter environment, please rerun this cell to show the HTML representation or trust the notebook. <br />On GitHub, the HTML representation is unable to render, please try loading this page with nbviewer.org.</b></div><div class=\"sk-container\" hidden><div class=\"sk-item\"><div class=\"sk-estimator sk-toggleable\"><input class=\"sk-toggleable__control sk-hidden--visually\" id=\"sk-estimator-id-5\" type=\"checkbox\" checked><label for=\"sk-estimator-id-5\" class=\"sk-toggleable__label sk-toggleable__label-arrow\">MLPRegressor</label><div class=\"sk-toggleable__content\"><pre>MLPRegressor(activation=&#x27;identity&#x27;, alpha=0.001, early_stopping=True,\n",
       "             shuffle=False, solver=&#x27;lbfgs&#x27;)</pre></div></div></div></div></div>"
      ],
      "text/plain": [
       "MLPRegressor(activation='identity', alpha=0.001, early_stopping=True,\n",
       "             shuffle=False, solver='lbfgs')"
      ]
     },
     "execution_count": 126,
     "metadata": {},
     "output_type": "execute_result"
    }
   ],
   "source": [
    "# tscv = TimeSeriesSplit()\n",
    "# model = MLPRegressor(activation= 'relu',\n",
    "#  early_stopping= True,\n",
    "#  shuffle= True,\n",
    "#  solver= \"adam\")\n",
    "tscv = TimeSeriesSplit()\n",
    "model = MLPRegressor(activation= 'identity',\n",
    " alpha = 0.001,\n",
    " early_stopping= True,\n",
    " shuffle= False,\n",
    " solver= \"lbfgs\")\n",
    "\n",
    "\n",
    "model.fit(X_train,y_train)\n",
    "\n"
   ]
  },
  {
   "cell_type": "code",
   "execution_count": 127,
   "metadata": {},
   "outputs": [
    {
     "data": {
      "text/plain": [
       "array([ 51.77366128,  44.82358219,  46.56216228, ..., 246.0542721 ,\n",
       "       245.9936418 , 246.20980199])"
      ]
     },
     "execution_count": 127,
     "metadata": {},
     "output_type": "execute_result"
    }
   ],
   "source": [
    "model.predict(X_test)"
   ]
  },
  {
   "cell_type": "code",
   "execution_count": 128,
   "metadata": {},
   "outputs": [
    {
     "name": "stderr",
     "output_type": "stream",
     "text": [
      "c:\\Users\\Usuario\\AppData\\Local\\Programs\\Python\\Python310\\lib\\site-packages\\sklearn\\neural_network\\_multilayer_perceptron.py:1607: DataConversionWarning: A column-vector y was passed when a 1d array was expected. Please change the shape of y to (n_samples, ), for example using ravel().\n",
      "  y = column_or_1d(y, warn=True)\n",
      "c:\\Users\\Usuario\\AppData\\Local\\Programs\\Python\\Python310\\lib\\site-packages\\sklearn\\neural_network\\_multilayer_perceptron.py:1607: DataConversionWarning: A column-vector y was passed when a 1d array was expected. Please change the shape of y to (n_samples, ), for example using ravel().\n",
      "  y = column_or_1d(y, warn=True)\n",
      "c:\\Users\\Usuario\\AppData\\Local\\Programs\\Python\\Python310\\lib\\site-packages\\sklearn\\neural_network\\_multilayer_perceptron.py:1607: DataConversionWarning: A column-vector y was passed when a 1d array was expected. Please change the shape of y to (n_samples, ), for example using ravel().\n",
      "  y = column_or_1d(y, warn=True)\n",
      "c:\\Users\\Usuario\\AppData\\Local\\Programs\\Python\\Python310\\lib\\site-packages\\sklearn\\neural_network\\_multilayer_perceptron.py:1607: DataConversionWarning: A column-vector y was passed when a 1d array was expected. Please change the shape of y to (n_samples, ), for example using ravel().\n",
      "  y = column_or_1d(y, warn=True)\n",
      "c:\\Users\\Usuario\\AppData\\Local\\Programs\\Python\\Python310\\lib\\site-packages\\sklearn\\neural_network\\_multilayer_perceptron.py:1607: DataConversionWarning: A column-vector y was passed when a 1d array was expected. Please change the shape of y to (n_samples, ), for example using ravel().\n",
      "  y = column_or_1d(y, warn=True)\n"
     ]
    },
    {
     "name": "stdout",
     "output_type": "stream",
     "text": [
      "[17180.74151722 14556.16573297 15428.07315124 13223.71066407\n",
      "  7103.82335562]\n"
     ]
    }
   ],
   "source": [
    "cv_results = cross_val_score(model,X_train,y_train,cv=5,scoring=make_scorer(mean_squared_error))\n",
    "\n",
    "\n",
    "print(cv_results)"
   ]
  },
  {
   "cell_type": "code",
   "execution_count": 129,
   "metadata": {},
   "outputs": [
    {
     "name": "stderr",
     "output_type": "stream",
     "text": [
      "c:\\Users\\Usuario\\AppData\\Local\\Programs\\Python\\Python310\\lib\\site-packages\\sklearn\\neural_network\\_multilayer_perceptron.py:702: ConvergenceWarning: Stochastic Optimizer: Maximum iterations (500) reached and the optimization hasn't converged yet.\n",
      "  warnings.warn(\n",
      "c:\\Users\\Usuario\\AppData\\Local\\Programs\\Python\\Python310\\lib\\site-packages\\sklearn\\neural_network\\_multilayer_perceptron.py:702: ConvergenceWarning: Stochastic Optimizer: Maximum iterations (500) reached and the optimization hasn't converged yet.\n",
      "  warnings.warn(\n",
      "c:\\Users\\Usuario\\AppData\\Local\\Programs\\Python\\Python310\\lib\\site-packages\\sklearn\\neural_network\\_multilayer_perceptron.py:702: ConvergenceWarning: Stochastic Optimizer: Maximum iterations (500) reached and the optimization hasn't converged yet.\n",
      "  warnings.warn(\n",
      "c:\\Users\\Usuario\\AppData\\Local\\Programs\\Python\\Python310\\lib\\site-packages\\sklearn\\neural_network\\_multilayer_perceptron.py:702: ConvergenceWarning: Stochastic Optimizer: Maximum iterations (500) reached and the optimization hasn't converged yet.\n",
      "  warnings.warn(\n"
     ]
    },
    {
     "name": "stdout",
     "output_type": "stream",
     "text": [
      "Modelo A: 8991.667032062385 ± 1837.0691602440963\n",
      "Modelo B: 9677.143993883774 ± 2760.3404536732087\n"
     ]
    }
   ],
   "source": [
    "# tscv = TimeSeriesSplit()\n",
    "model2a = MLPRegressor(activation= 'relu',\n",
    " early_stopping= True,\n",
    " shuffle= True,\n",
    " solver= \"adam\",\n",
    " max_iter=500)\n",
    "\n",
    "tscv = TimeSeriesSplit()\n",
    "model2b = MLPRegressor(activation= 'identity',\n",
    " alpha = 0.001,\n",
    " early_stopping= True,\n",
    " shuffle= False,\n",
    " solver= \"lbfgs\",\n",
    " max_iter=500)\n",
    "\n",
    "# model2.fit(X_train2,y_train2)\n",
    "\n",
    "cv_results_a = cross_val_score(model2a,X_train2,y_train2.values.ravel(),cv=5,scoring=make_scorer(mean_squared_error))\n",
    "print(f\"Modelo A: {np.mean(cv_results_a)} ± {np.std(cv_results_a)}\")\n",
    "cv_results_b = cross_val_score(model2b,X_train2,y_train2.values.ravel(),cv=5,scoring=make_scorer(mean_squared_error))\n",
    "print(f\"Modelo B: {np.mean(cv_results_b)} ± {np.std(cv_results_b)}\")\n",
    "\n",
    "model2 = model2b #pra n dar erro com o código de baixo"
   ]
  },
  {
   "cell_type": "code",
   "execution_count": 130,
   "metadata": {},
   "outputs": [
    {
     "name": "stderr",
     "output_type": "stream",
     "text": [
      "c:\\Users\\Usuario\\AppData\\Local\\Programs\\Python\\Python310\\lib\\site-packages\\sklearn\\neural_network\\_multilayer_perceptron.py:1607: DataConversionWarning: A column-vector y was passed when a 1d array was expected. Please change the shape of y to (n_samples, ), for example using ravel().\n",
      "  y = column_or_1d(y, warn=True)\n"
     ]
    },
    {
     "data": {
      "text/plain": [
       "-0.7687773329332654"
      ]
     },
     "execution_count": 130,
     "metadata": {},
     "output_type": "execute_result"
    }
   ],
   "source": [
    "model2.fit(X_train2,y_train2)\n",
    "pred = model2.predict(X_test2)\n",
    "model2.score(X_test2,y_test2)"
   ]
  },
  {
   "cell_type": "code",
   "execution_count": 131,
   "metadata": {},
   "outputs": [
    {
     "name": "stderr",
     "output_type": "stream",
     "text": [
      "c:\\Users\\Usuario\\AppData\\Local\\Programs\\Python\\Python310\\lib\\site-packages\\sklearn\\neural_network\\_multilayer_perceptron.py:1607: DataConversionWarning: A column-vector y was passed when a 1d array was expected. Please change the shape of y to (n_samples, ), for example using ravel().\n",
      "  y = column_or_1d(y, warn=True)\n",
      "c:\\Users\\Usuario\\AppData\\Local\\Programs\\Python\\Python310\\lib\\site-packages\\sklearn\\neural_network\\_multilayer_perceptron.py:1607: DataConversionWarning: A column-vector y was passed when a 1d array was expected. Please change the shape of y to (n_samples, ), for example using ravel().\n",
      "  y = column_or_1d(y, warn=True)\n",
      "c:\\Users\\Usuario\\AppData\\Local\\Programs\\Python\\Python310\\lib\\site-packages\\sklearn\\neural_network\\_multilayer_perceptron.py:1607: DataConversionWarning: A column-vector y was passed when a 1d array was expected. Please change the shape of y to (n_samples, ), for example using ravel().\n",
      "  y = column_or_1d(y, warn=True)\n",
      "c:\\Users\\Usuario\\AppData\\Local\\Programs\\Python\\Python310\\lib\\site-packages\\sklearn\\neural_network\\_multilayer_perceptron.py:1607: DataConversionWarning: A column-vector y was passed when a 1d array was expected. Please change the shape of y to (n_samples, ), for example using ravel().\n",
      "  y = column_or_1d(y, warn=True)\n"
     ]
    },
    {
     "name": "stdout",
     "output_type": "stream",
     "text": [
      "[14193.43232219 10636.0836657   6913.73176636  6667.22326915\n",
      "  9975.68547827]\n"
     ]
    },
    {
     "name": "stderr",
     "output_type": "stream",
     "text": [
      "c:\\Users\\Usuario\\AppData\\Local\\Programs\\Python\\Python310\\lib\\site-packages\\sklearn\\neural_network\\_multilayer_perceptron.py:1607: DataConversionWarning: A column-vector y was passed when a 1d array was expected. Please change the shape of y to (n_samples, ), for example using ravel().\n",
      "  y = column_or_1d(y, warn=True)\n"
     ]
    }
   ],
   "source": [
    "cv_results = cross_val_score(model2,X_train2,y_train2,cv=5,scoring=make_scorer(mean_squared_error))\n",
    "\n",
    "\n",
    "print(cv_results)"
   ]
  },
  {
   "cell_type": "code",
   "execution_count": 132,
   "metadata": {},
   "outputs": [],
   "source": [
    "df3 = pd.read_csv(\"../data/challenge/test.csv\")\n",
    "X_test = df3.drop([\"DT_COMPTC\"],axis=1)\n",
    "X_test = lock_lim(X_test)"
   ]
  },
  {
   "cell_type": "code",
   "execution_count": 133,
   "metadata": {},
   "outputs": [],
   "source": [
    "X_test = scaler.fit_transform(X_test)"
   ]
  },
  {
   "cell_type": "code",
   "execution_count": 134,
   "metadata": {},
   "outputs": [],
   "source": [
    "df3[\"cap\"] = model.predict(X_test)\n",
    "df3[\"resg\"] = model2.predict(X_test)"
   ]
  },
  {
   "cell_type": "code",
   "execution_count": null,
   "metadata": {},
   "outputs": [],
   "source": []
  },
  {
   "cell_type": "code",
   "execution_count": 135,
   "metadata": {},
   "outputs": [],
   "source": [
    "df3[\"Fluxo\"] = df3[\"cap\"] - df3[\"resg\"]"
   ]
  },
  {
   "cell_type": "code",
   "execution_count": 136,
   "metadata": {},
   "outputs": [
    {
     "data": {
      "text/html": [
       "<div>\n",
       "<style scoped>\n",
       "    .dataframe tbody tr th:only-of-type {\n",
       "        vertical-align: middle;\n",
       "    }\n",
       "\n",
       "    .dataframe tbody tr th {\n",
       "        vertical-align: top;\n",
       "    }\n",
       "\n",
       "    .dataframe thead th {\n",
       "        text-align: right;\n",
       "    }\n",
       "</style>\n",
       "<table border=\"1\" class=\"dataframe\">\n",
       "  <thead>\n",
       "    <tr style=\"text-align: right;\">\n",
       "      <th></th>\n",
       "      <th>DT_COMPTC</th>\n",
       "      <th>IBOV</th>\n",
       "      <th>Dol</th>\n",
       "      <th>NDX</th>\n",
       "      <th>SPX</th>\n",
       "      <th>cap</th>\n",
       "      <th>resg</th>\n",
       "      <th>Fluxo</th>\n",
       "    </tr>\n",
       "  </thead>\n",
       "  <tbody>\n",
       "    <tr>\n",
       "      <th>0</th>\n",
       "      <td>2021-05-19</td>\n",
       "      <td>122636.30</td>\n",
       "      <td>5.3105</td>\n",
       "      <td>13237.91</td>\n",
       "      <td>4115.68</td>\n",
       "      <td>204.258043</td>\n",
       "      <td>137.415819</td>\n",
       "      <td>66.842223</td>\n",
       "    </tr>\n",
       "    <tr>\n",
       "      <th>1</th>\n",
       "      <td>2021-05-20</td>\n",
       "      <td>122700.80</td>\n",
       "      <td>5.2846</td>\n",
       "      <td>13494.09</td>\n",
       "      <td>4159.12</td>\n",
       "      <td>200.622475</td>\n",
       "      <td>142.430794</td>\n",
       "      <td>58.191681</td>\n",
       "    </tr>\n",
       "    <tr>\n",
       "      <th>2</th>\n",
       "      <td>2021-05-21</td>\n",
       "      <td>122592.50</td>\n",
       "      <td>5.3662</td>\n",
       "      <td>13411.74</td>\n",
       "      <td>4155.86</td>\n",
       "      <td>205.716300</td>\n",
       "      <td>139.097945</td>\n",
       "      <td>66.618355</td>\n",
       "    </tr>\n",
       "    <tr>\n",
       "      <th>3</th>\n",
       "      <td>2021-05-24</td>\n",
       "      <td>124031.60</td>\n",
       "      <td>5.3185</td>\n",
       "      <td>13641.75</td>\n",
       "      <td>4197.05</td>\n",
       "      <td>211.583712</td>\n",
       "      <td>148.323897</td>\n",
       "      <td>63.259815</td>\n",
       "    </tr>\n",
       "    <tr>\n",
       "      <th>4</th>\n",
       "      <td>2021-05-25</td>\n",
       "      <td>122987.70</td>\n",
       "      <td>5.3320</td>\n",
       "      <td>13657.73</td>\n",
       "      <td>4188.13</td>\n",
       "      <td>201.127082</td>\n",
       "      <td>144.788218</td>\n",
       "      <td>56.338864</td>\n",
       "    </tr>\n",
       "    <tr>\n",
       "      <th>...</th>\n",
       "      <td>...</td>\n",
       "      <td>...</td>\n",
       "      <td>...</td>\n",
       "      <td>...</td>\n",
       "      <td>...</td>\n",
       "      <td>...</td>\n",
       "      <td>...</td>\n",
       "      <td>...</td>\n",
       "    </tr>\n",
       "    <tr>\n",
       "      <th>295</th>\n",
       "      <td>2022-07-20</td>\n",
       "      <td>98286.83</td>\n",
       "      <td>5.4704</td>\n",
       "      <td>12439.68</td>\n",
       "      <td>3959.90</td>\n",
       "      <td>57.072114</td>\n",
       "      <td>48.590664</td>\n",
       "      <td>8.481451</td>\n",
       "    </tr>\n",
       "    <tr>\n",
       "      <th>296</th>\n",
       "      <td>2022-07-21</td>\n",
       "      <td>99033.17</td>\n",
       "      <td>5.4988</td>\n",
       "      <td>12619.41</td>\n",
       "      <td>3998.95</td>\n",
       "      <td>62.385983</td>\n",
       "      <td>53.286650</td>\n",
       "      <td>9.099333</td>\n",
       "    </tr>\n",
       "    <tr>\n",
       "      <th>297</th>\n",
       "      <td>2022-07-22</td>\n",
       "      <td>98924.82</td>\n",
       "      <td>5.4976</td>\n",
       "      <td>12396.47</td>\n",
       "      <td>3961.63</td>\n",
       "      <td>65.058130</td>\n",
       "      <td>49.383821</td>\n",
       "      <td>15.674309</td>\n",
       "    </tr>\n",
       "    <tr>\n",
       "      <th>298</th>\n",
       "      <td>2022-07-25</td>\n",
       "      <td>100269.85</td>\n",
       "      <td>5.3589</td>\n",
       "      <td>12328.41</td>\n",
       "      <td>3966.84</td>\n",
       "      <td>78.163039</td>\n",
       "      <td>56.277664</td>\n",
       "      <td>21.885376</td>\n",
       "    </tr>\n",
       "    <tr>\n",
       "      <th>299</th>\n",
       "      <td>2022-07-26</td>\n",
       "      <td>99771.69</td>\n",
       "      <td>5.3497</td>\n",
       "      <td>12086.90</td>\n",
       "      <td>3921.05</td>\n",
       "      <td>76.789827</td>\n",
       "      <td>50.948019</td>\n",
       "      <td>25.841808</td>\n",
       "    </tr>\n",
       "  </tbody>\n",
       "</table>\n",
       "<p>300 rows × 8 columns</p>\n",
       "</div>"
      ],
      "text/plain": [
       "      DT_COMPTC       IBOV     Dol       NDX      SPX         cap        resg  \\\n",
       "0    2021-05-19  122636.30  5.3105  13237.91  4115.68  204.258043  137.415819   \n",
       "1    2021-05-20  122700.80  5.2846  13494.09  4159.12  200.622475  142.430794   \n",
       "2    2021-05-21  122592.50  5.3662  13411.74  4155.86  205.716300  139.097945   \n",
       "3    2021-05-24  124031.60  5.3185  13641.75  4197.05  211.583712  148.323897   \n",
       "4    2021-05-25  122987.70  5.3320  13657.73  4188.13  201.127082  144.788218   \n",
       "..          ...        ...     ...       ...      ...         ...         ...   \n",
       "295  2022-07-20   98286.83  5.4704  12439.68  3959.90   57.072114   48.590664   \n",
       "296  2022-07-21   99033.17  5.4988  12619.41  3998.95   62.385983   53.286650   \n",
       "297  2022-07-22   98924.82  5.4976  12396.47  3961.63   65.058130   49.383821   \n",
       "298  2022-07-25  100269.85  5.3589  12328.41  3966.84   78.163039   56.277664   \n",
       "299  2022-07-26   99771.69  5.3497  12086.90  3921.05   76.789827   50.948019   \n",
       "\n",
       "         Fluxo  \n",
       "0    66.842223  \n",
       "1    58.191681  \n",
       "2    66.618355  \n",
       "3    63.259815  \n",
       "4    56.338864  \n",
       "..         ...  \n",
       "295   8.481451  \n",
       "296   9.099333  \n",
       "297  15.674309  \n",
       "298  21.885376  \n",
       "299  25.841808  \n",
       "\n",
       "[300 rows x 8 columns]"
      ]
     },
     "execution_count": 136,
     "metadata": {},
     "output_type": "execute_result"
    }
   ],
   "source": [
    "df3"
   ]
  },
  {
   "cell_type": "code",
   "execution_count": 137,
   "metadata": {},
   "outputs": [],
   "source": [
    "df4 = df3[[\"DT_COMPTC\",\"Fluxo\"]]"
   ]
  },
  {
   "cell_type": "code",
   "execution_count": 138,
   "metadata": {},
   "outputs": [],
   "source": [
    "df4.to_csv(\"../organização/submission.csv\", index=False)"
   ]
  },
  {
   "cell_type": "code",
   "execution_count": 139,
   "metadata": {},
   "outputs": [
    {
     "data": {
      "text/plain": [
       "[<matplotlib.lines.Line2D at 0x1b76da84160>]"
      ]
     },
     "execution_count": 139,
     "metadata": {},
     "output_type": "execute_result"
    },
    {
     "data": {
      "image/png": "[encoded data removed]",
      "text/plain": [
       "<Figure size 640x480 with 1 Axes>"
      ]
     },
     "metadata": {},
     "output_type": "display_data"
    }
   ],
   "source": [
    "plt.plot(np.arange(len(y_test2)),y_test2)\n",
    "plt.plot(np.arange(len(y_test2)),pred)"
   ]
  }
 ],
 "metadata": {
  "kernelspec": {
   "display_name": "Python 3.10.5 64-bit",
   "language": "python",
   "name": "python3"
  },
  "language_info": {
   "codemirror_mode": {
    "name": "ipython",
    "version": 3
   },
   "file_extension": ".py",
   "mimetype": "text/x-python",
   "name": "python",
   "nbconvert_exporter": "python",
   "pygments_lexer": "ipython3",
   "version": "3.10.5"
  },
  "orig_nbformat": 4,
  "vscode": {
   "interpreter": {
    "hash": "c63d8c7d738c2960218a10995aedf0a7f67a49a231e71037adf0440953cdb45b"
   }
  }
 },
 "nbformat": 4,
 "nbformat_minor": 2
}
