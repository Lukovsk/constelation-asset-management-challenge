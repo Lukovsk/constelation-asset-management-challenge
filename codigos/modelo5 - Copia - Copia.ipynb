{
 "cells": [
  {
   "cell_type": "code",
   "execution_count": 210,
   "metadata": {},
   "outputs": [],
   "source": [
    "# imports necessary libraries\n",
    "import pandas as pd\n",
    "import numpy as np\n",
    "import matplotlib.pyplot as plt\n",
    "from sklearn.model_selection import TimeSeriesSplit,cross_val_score,GridSearchCV \n",
    "from sklearn.ensemble import RandomForestRegressor\n",
    "from sklearn.preprocessing import PolynomialFeatures,StandardScaler,MinMaxScaler\n",
    "from sklearn.metrics import mean_squared_error,make_scorer\n",
    "from sklearn.neural_network import MLPRegressor\n"
   ]
  },
  {
   "cell_type": "code",
   "execution_count": 211,
   "metadata": {},
   "outputs": [],
   "source": [
    "# loads dataset\n",
    "df = pd.read_csv(\"../data/challenge/train.csv\")\n",
    "df2 = pd.read_csv(\"../data/challenge/additive.csv\")\n",
    "\n",
    "#adds columns\n",
    "df[\"cap\"] = df2[\"CAPTC_DIA\"]\n",
    "df[\"resg\"] = df2[\"RESG_DIA\"]\n",
    "df.drop([\"Fluxo\"],inplace=True,axis=1)\n",
    "\n",
    "df = df.drop([\"DT_COMPTC\"], axis=1)"
   ]
  },
  {
   "cell_type": "code",
   "execution_count": 212,
   "metadata": {},
   "outputs": [],
   "source": [
    "\n",
    "# teste de colunas correlacionadas\n",
    "# colunas = df.columns\n",
    "# for coluna in df.columns:\n",
    "#     colunas =colunas.drop(coluna)\n",
    "#     for coluna2 in colunas:\n",
    "#         df[f\"{coluna}_{coluna2}\"] = df[coluna]/df[coluna2]\n",
    "\n",
    "# df.corr().to_csv(\"correlação.csv\")\n",
    "\n",
    "        "
   ]
  },
  {
   "cell_type": "code",
   "execution_count": 213,
   "metadata": {},
   "outputs": [],
   "source": [
    "df[\"NDX_SPX\"] = df[\"NDX\"]/df['SPX']\n",
    "df[\"Dol_NDX\"] = df[\"Dol\"]/df[\"NDX\"]\n",
    "df[\"IBOV_NDX\"] = df[\"IBOV\"]/df[\"NDX\"]\n",
    "df[\"Dol_SPX\"] = df[\"Dol\"]/df[\"SPX\"]"
   ]
  },
  {
   "cell_type": "code",
   "execution_count": 214,
   "metadata": {},
   "outputs": [
    {
     "data": {
      "text/html": [
       "<div>\n",
       "<style scoped>\n",
       "    .dataframe tbody tr th:only-of-type {\n",
       "        vertical-align: middle;\n",
       "    }\n",
       "\n",
       "    .dataframe tbody tr th {\n",
       "        vertical-align: top;\n",
       "    }\n",
       "\n",
       "    .dataframe thead th {\n",
       "        text-align: right;\n",
       "    }\n",
       "</style>\n",
       "<table border=\"1\" class=\"dataframe\">\n",
       "  <thead>\n",
       "    <tr style=\"text-align: right;\">\n",
       "      <th></th>\n",
       "      <th>cap</th>\n",
       "      <th>resg</th>\n",
       "    </tr>\n",
       "  </thead>\n",
       "  <tbody>\n",
       "    <tr>\n",
       "      <th>IBOV</th>\n",
       "      <td>0.649174</td>\n",
       "      <td>0.208245</td>\n",
       "    </tr>\n",
       "    <tr>\n",
       "      <th>Dol</th>\n",
       "      <td>0.513351</td>\n",
       "      <td>0.198365</td>\n",
       "    </tr>\n",
       "    <tr>\n",
       "      <th>NDX</th>\n",
       "      <td>0.597829</td>\n",
       "      <td>0.224206</td>\n",
       "    </tr>\n",
       "    <tr>\n",
       "      <th>SPX</th>\n",
       "      <td>0.568180</td>\n",
       "      <td>0.203005</td>\n",
       "    </tr>\n",
       "    <tr>\n",
       "      <th>cap</th>\n",
       "      <td>1.000000</td>\n",
       "      <td>0.256957</td>\n",
       "    </tr>\n",
       "    <tr>\n",
       "      <th>resg</th>\n",
       "      <td>0.256957</td>\n",
       "      <td>1.000000</td>\n",
       "    </tr>\n",
       "    <tr>\n",
       "      <th>NDX_SPX</th>\n",
       "      <td>0.538169</td>\n",
       "      <td>0.209422</td>\n",
       "    </tr>\n",
       "    <tr>\n",
       "      <th>Dol_NDX</th>\n",
       "      <td>-0.372469</td>\n",
       "      <td>-0.134013</td>\n",
       "    </tr>\n",
       "    <tr>\n",
       "      <th>IBOV_NDX</th>\n",
       "      <td>-0.257822</td>\n",
       "      <td>-0.110364</td>\n",
       "    </tr>\n",
       "    <tr>\n",
       "      <th>Dol_SPX</th>\n",
       "      <td>-0.169892</td>\n",
       "      <td>-0.042689</td>\n",
       "    </tr>\n",
       "  </tbody>\n",
       "</table>\n",
       "</div>"
      ],
      "text/plain": [
       "               cap      resg\n",
       "IBOV      0.649174  0.208245\n",
       "Dol       0.513351  0.198365\n",
       "NDX       0.597829  0.224206\n",
       "SPX       0.568180  0.203005\n",
       "cap       1.000000  0.256957\n",
       "resg      0.256957  1.000000\n",
       "NDX_SPX   0.538169  0.209422\n",
       "Dol_NDX  -0.372469 -0.134013\n",
       "IBOV_NDX -0.257822 -0.110364\n",
       "Dol_SPX  -0.169892 -0.042689"
      ]
     },
     "execution_count": 214,
     "metadata": {},
     "output_type": "execute_result"
    }
   ],
   "source": [
    "df.corr()[[\"cap\",\"resg\"]]"
   ]
  },
  {
   "cell_type": "code",
   "execution_count": 215,
   "metadata": {},
   "outputs": [],
   "source": [
    "\n",
    "# def lock_lim(df):\n",
    "#     cols = df.columns\n",
    "#     for col in cols:\n",
    "#         q1 = np.percentile(df[col], 25)\n",
    "#         q3 = np.percentile(df[col], 75)\n",
    "#         iqr = q3 - q1\n",
    "#         ls = q3 + 1.5*iqr\n",
    "#         li = q1 - 1.5*iqr\n",
    "#         df[col][df[col] < li] = li\n",
    "#         df[col][df[col] > ls] = ls\n",
    "    \n",
    "#     return df\n",
    "\n",
    "# print(df.describe())\n",
    "# df = lock_lim(df)\n",
    "# print(df.describe())"
   ]
  },
  {
   "cell_type": "code",
   "execution_count": 216,
   "metadata": {},
   "outputs": [],
   "source": [
    "#características\n",
    "X_train = df.drop([\"cap\",\"resg\"],axis=1)[:3000]\n",
    "X_test = df.drop([\"cap\",\"resg\"],axis=1)[3000:]\n",
    "\n",
    "\n",
    "#resposta\n",
    "y_train = df[[\"cap\"]][:3000]\n",
    "y_test = df[[\"cap\"]][3000:]\n",
    "\n",
    "y_train2 = df[[\"resg\"]][:3000]\n",
    "y_test2 = df[[\"resg\"]][3000:]"
   ]
  },
  {
   "cell_type": "code",
   "execution_count": 217,
   "metadata": {},
   "outputs": [
    {
     "ename": "SyntaxError",
     "evalue": "invalid syntax (2121196848.py, line 11)",
     "output_type": "error",
     "traceback": [
      "\u001b[1;36m  Input \u001b[1;32mIn [217]\u001b[1;36m\u001b[0m\n\u001b[1;33m    column in X_train.columns:\u001b[0m\n\u001b[1;37m                             ^\u001b[0m\n\u001b[1;31mSyntaxError\u001b[0m\u001b[1;31m:\u001b[0m invalid syntax\n"
     ]
    }
   ],
   "source": [
    "#padroniza os dados\n",
    "for column in X_train.columns:\n",
    "    X_train[column] = np.log(X_train[column])\n",
    "    X_test[column] = np.log(X_test[column])\n",
    "\n",
    "scaler = MinMaxscaler()\n",
    "train = scaler.fit_transform(X_train)\n",
    "\n",
    "X_st = scaler.transform(X_test)\n",
    "\n",
    "column in X_train.columns:\n",
    "    X_train[column] = np.log(X_train[column])\n",
    "    X_test[column] = np.log(X_test[column])\n"
   ]
  },
  {
   "cell_type": "code",
   "execution_count": null,
   "metadata": {},
   "outputs": [
    {
     "data": {
      "text/html": [
       "<div>\n",
       "<style scoped>\n",
       "    .dataframe tbody tr th:only-of-type {\n",
       "        vertical-align: middle;\n",
       "    }\n",
       "\n",
       "    .dataframe tbody tr th {\n",
       "        vertical-align: top;\n",
       "    }\n",
       "\n",
       "    .dataframe thead th {\n",
       "        text-align: right;\n",
       "    }\n",
       "</style>\n",
       "<table border=\"1\" class=\"dataframe\">\n",
       "  <thead>\n",
       "    <tr style=\"text-align: right;\">\n",
       "      <th></th>\n",
       "      <th>IBOV</th>\n",
       "      <th>Dol</th>\n",
       "      <th>NDX</th>\n",
       "      <th>SPX</th>\n",
       "      <th>NDX_SPX</th>\n",
       "      <th>Dol_NDX</th>\n",
       "      <th>IBOV_NDX</th>\n",
       "      <th>Dol_SPX</th>\n",
       "    </tr>\n",
       "  </thead>\n",
       "  <tbody>\n",
       "    <tr>\n",
       "      <th>0</th>\n",
       "      <td>10.155102</td>\n",
       "      <td>0.984286</td>\n",
       "      <td>7.379950</td>\n",
       "      <td>7.091809</td>\n",
       "      <td>0.288142</td>\n",
       "      <td>-6.395664</td>\n",
       "      <td>2.775152</td>\n",
       "      <td>-6.107523</td>\n",
       "    </tr>\n",
       "    <tr>\n",
       "      <th>1</th>\n",
       "      <td>10.120533</td>\n",
       "      <td>1.000264</td>\n",
       "      <td>7.359996</td>\n",
       "      <td>7.080069</td>\n",
       "      <td>0.279927</td>\n",
       "      <td>-6.359732</td>\n",
       "      <td>2.760537</td>\n",
       "      <td>-6.079804</td>\n",
       "    </tr>\n",
       "    <tr>\n",
       "      <th>2</th>\n",
       "      <td>10.114226</td>\n",
       "      <td>0.998424</td>\n",
       "      <td>7.354848</td>\n",
       "      <td>7.076434</td>\n",
       "      <td>0.278414</td>\n",
       "      <td>-6.356425</td>\n",
       "      <td>2.759378</td>\n",
       "      <td>-6.078011</td>\n",
       "    </tr>\n",
       "    <tr>\n",
       "      <th>3</th>\n",
       "      <td>10.100981</td>\n",
       "      <td>1.001293</td>\n",
       "      <td>7.350850</td>\n",
       "      <td>7.079934</td>\n",
       "      <td>0.270916</td>\n",
       "      <td>-6.349557</td>\n",
       "      <td>2.750131</td>\n",
       "      <td>-6.078640</td>\n",
       "    </tr>\n",
       "    <tr>\n",
       "      <th>4</th>\n",
       "      <td>10.116468</td>\n",
       "      <td>0.997686</td>\n",
       "      <td>7.355520</td>\n",
       "      <td>7.078502</td>\n",
       "      <td>0.277018</td>\n",
       "      <td>-6.357833</td>\n",
       "      <td>2.760948</td>\n",
       "      <td>-6.080815</td>\n",
       "    </tr>\n",
       "    <tr>\n",
       "      <th>5</th>\n",
       "      <td>10.097898</td>\n",
       "      <td>0.994547</td>\n",
       "      <td>7.355590</td>\n",
       "      <td>7.081910</td>\n",
       "      <td>0.273680</td>\n",
       "      <td>-6.361043</td>\n",
       "      <td>2.742308</td>\n",
       "      <td>-6.087363</td>\n",
       "    </tr>\n",
       "    <tr>\n",
       "      <th>6</th>\n",
       "      <td>10.101104</td>\n",
       "      <td>1.001110</td>\n",
       "      <td>7.348201</td>\n",
       "      <td>7.075800</td>\n",
       "      <td>0.272401</td>\n",
       "      <td>-6.347092</td>\n",
       "      <td>2.752903</td>\n",
       "      <td>-6.074691</td>\n",
       "    </tr>\n",
       "    <tr>\n",
       "      <th>7</th>\n",
       "      <td>10.106820</td>\n",
       "      <td>0.995656</td>\n",
       "      <td>7.356139</td>\n",
       "      <td>7.079774</td>\n",
       "      <td>0.276365</td>\n",
       "      <td>-6.360483</td>\n",
       "      <td>2.750681</td>\n",
       "      <td>-6.084118</td>\n",
       "    </tr>\n",
       "    <tr>\n",
       "      <th>8</th>\n",
       "      <td>10.118829</td>\n",
       "      <td>0.994732</td>\n",
       "      <td>7.342896</td>\n",
       "      <td>7.071106</td>\n",
       "      <td>0.271789</td>\n",
       "      <td>-6.348164</td>\n",
       "      <td>2.775933</td>\n",
       "      <td>-6.076374</td>\n",
       "    </tr>\n",
       "    <tr>\n",
       "      <th>9</th>\n",
       "      <td>10.123590</td>\n",
       "      <td>0.993807</td>\n",
       "      <td>7.353152</td>\n",
       "      <td>7.077093</td>\n",
       "      <td>0.276059</td>\n",
       "      <td>-6.359345</td>\n",
       "      <td>2.770438</td>\n",
       "      <td>-6.083286</td>\n",
       "    </tr>\n",
       "  </tbody>\n",
       "</table>\n",
       "</div>"
      ],
      "text/plain": [
       "        IBOV       Dol       NDX       SPX   NDX_SPX   Dol_NDX  IBOV_NDX  \\\n",
       "0  10.155102  0.984286  7.379950  7.091809  0.288142 -6.395664  2.775152   \n",
       "1  10.120533  1.000264  7.359996  7.080069  0.279927 -6.359732  2.760537   \n",
       "2  10.114226  0.998424  7.354848  7.076434  0.278414 -6.356425  2.759378   \n",
       "3  10.100981  1.001293  7.350850  7.079934  0.270916 -6.349557  2.750131   \n",
       "4  10.116468  0.997686  7.355520  7.078502  0.277018 -6.357833  2.760948   \n",
       "5  10.097898  0.994547  7.355590  7.081910  0.273680 -6.361043  2.742308   \n",
       "6  10.101104  1.001110  7.348201  7.075800  0.272401 -6.347092  2.752903   \n",
       "7  10.106820  0.995656  7.356139  7.079774  0.276365 -6.360483  2.750681   \n",
       "8  10.118829  0.994732  7.342896  7.071106  0.271789 -6.348164  2.775933   \n",
       "9  10.123590  0.993807  7.353152  7.077093  0.276059 -6.359345  2.770438   \n",
       "\n",
       "    Dol_SPX  \n",
       "0 -6.107523  \n",
       "1 -6.079804  \n",
       "2 -6.078011  \n",
       "3 -6.078640  \n",
       "4 -6.080815  \n",
       "5 -6.087363  \n",
       "6 -6.074691  \n",
       "7 -6.084118  \n",
       "8 -6.076374  \n",
       "9 -6.083286  "
      ]
     },
     "execution_count": 208,
     "metadata": {},
     "output_type": "execute_result"
    }
   ],
   "source": [
    "X_train.head(10)"
   ]
  },
  {
   "cell_type": "code",
   "execution_count": null,
   "metadata": {},
   "outputs": [
    {
     "name": "stderr",
     "output_type": "stream",
     "text": [
      "c:\\Users\\Usuario\\AppData\\Local\\Programs\\Python\\Python310\\lib\\site-packages\\sklearn\\neural_network\\_multilayer_perceptron.py:1607: DataConversionWarning: A column-vector y was passed when a 1d array was expected. Please change the shape of y to (n_samples, ), for example using ravel().\n",
      "  y = column_or_1d(y, warn=True)\n",
      "c:\\Users\\Usuario\\AppData\\Local\\Programs\\Python\\Python310\\lib\\site-packages\\sklearn\\neural_network\\_multilayer_perceptron.py:1607: DataConversionWarning: A column-vector y was passed when a 1d array was expected. Please change the shape of y to (n_samples, ), for example using ravel().\n",
      "  y = column_or_1d(y, warn=True)\n"
     ]
    },
    {
     "data": {
      "text/html": [
       "<style>#sk-container-id-13 {color: black;background-color: white;}#sk-container-id-13 pre{padding: 0;}#sk-container-id-13 div.sk-toggleable {background-color: white;}#sk-container-id-13 label.sk-toggleable__label {cursor: pointer;display: block;width: 100%;margin-bottom: 0;padding: 0.3em;box-sizing: border-box;text-align: center;}#sk-container-id-13 label.sk-toggleable__label-arrow:before {content: \"▸\";float: left;margin-right: 0.25em;color: #696969;}#sk-container-id-13 label.sk-toggleable__label-arrow:hover:before {color: black;}#sk-container-id-13 div.sk-estimator:hover label.sk-toggleable__label-arrow:before {color: black;}#sk-container-id-13 div.sk-toggleable__content {max-height: 0;max-width: 0;overflow: hidden;text-align: left;background-color: #f0f8ff;}#sk-container-id-13 div.sk-toggleable__content pre {margin: 0.2em;color: black;border-radius: 0.25em;background-color: #f0f8ff;}#sk-container-id-13 input.sk-toggleable__control:checked~div.sk-toggleable__content {max-height: 200px;max-width: 100%;overflow: auto;}#sk-container-id-13 input.sk-toggleable__control:checked~label.sk-toggleable__label-arrow:before {content: \"▾\";}#sk-container-id-13 div.sk-estimator input.sk-toggleable__control:checked~label.sk-toggleable__label {background-color: #d4ebff;}#sk-container-id-13 div.sk-label input.sk-toggleable__control:checked~label.sk-toggleable__label {background-color: #d4ebff;}#sk-container-id-13 input.sk-hidden--visually {border: 0;clip: rect(1px 1px 1px 1px);clip: rect(1px, 1px, 1px, 1px);height: 1px;margin: -1px;overflow: hidden;padding: 0;position: absolute;width: 1px;}#sk-container-id-13 div.sk-estimator {font-family: monospace;background-color: #f0f8ff;border: 1px dotted black;border-radius: 0.25em;box-sizing: border-box;margin-bottom: 0.5em;}#sk-container-id-13 div.sk-estimator:hover {background-color: #d4ebff;}#sk-container-id-13 div.sk-parallel-item::after {content: \"\";width: 100%;border-bottom: 1px solid gray;flex-grow: 1;}#sk-container-id-13 div.sk-label:hover label.sk-toggleable__label {background-color: #d4ebff;}#sk-container-id-13 div.sk-serial::before {content: \"\";position: absolute;border-left: 1px solid gray;box-sizing: border-box;top: 0;bottom: 0;left: 50%;z-index: 0;}#sk-container-id-13 div.sk-serial {display: flex;flex-direction: column;align-items: center;background-color: white;padding-right: 0.2em;padding-left: 0.2em;position: relative;}#sk-container-id-13 div.sk-item {position: relative;z-index: 1;}#sk-container-id-13 div.sk-parallel {display: flex;align-items: stretch;justify-content: center;background-color: white;position: relative;}#sk-container-id-13 div.sk-item::before, #sk-container-id-13 div.sk-parallel-item::before {content: \"\";position: absolute;border-left: 1px solid gray;box-sizing: border-box;top: 0;bottom: 0;left: 50%;z-index: -1;}#sk-container-id-13 div.sk-parallel-item {display: flex;flex-direction: column;z-index: 1;position: relative;background-color: white;}#sk-container-id-13 div.sk-parallel-item:first-child::after {align-self: flex-end;width: 50%;}#sk-container-id-13 div.sk-parallel-item:last-child::after {align-self: flex-start;width: 50%;}#sk-container-id-13 div.sk-parallel-item:only-child::after {width: 0;}#sk-container-id-13 div.sk-dashed-wrapped {border: 1px dashed gray;margin: 0 0.4em 0.5em 0.4em;box-sizing: border-box;padding-bottom: 0.4em;background-color: white;}#sk-container-id-13 div.sk-label label {font-family: monospace;font-weight: bold;display: inline-block;line-height: 1.2em;}#sk-container-id-13 div.sk-label-container {text-align: center;}#sk-container-id-13 div.sk-container {/* jupyter's `normalize.less` sets `[hidden] { display: none; }` but bootstrap.min.css set `[hidden] { display: none !important; }` so we also need the `!important` here to be able to override the default hidden behavior on the sphinx rendered scikit-learn.org. See: https://github.com/scikit-learn/scikit-learn/issues/21755 */display: inline-block !important;position: relative;}#sk-container-id-13 div.sk-text-repr-fallback {display: none;}</style><div id=\"sk-container-id-13\" class=\"sk-top-container\"><div class=\"sk-text-repr-fallback\"><pre>MLPRegressor(activation=&#x27;identity&#x27;, alpha=0.001, early_stopping=True,\n",
       "             hidden_layer_sizes=(50, 20), solver=&#x27;lbfgs&#x27;)</pre><b>In a Jupyter environment, please rerun this cell to show the HTML representation or trust the notebook. <br />On GitHub, the HTML representation is unable to render, please try loading this page with nbviewer.org.</b></div><div class=\"sk-container\" hidden><div class=\"sk-item\"><div class=\"sk-estimator sk-toggleable\"><input class=\"sk-toggleable__control sk-hidden--visually\" id=\"sk-estimator-id-13\" type=\"checkbox\" checked><label for=\"sk-estimator-id-13\" class=\"sk-toggleable__label sk-toggleable__label-arrow\">MLPRegressor</label><div class=\"sk-toggleable__content\"><pre>MLPRegressor(activation=&#x27;identity&#x27;, alpha=0.001, early_stopping=True,\n",
       "             hidden_layer_sizes=(50, 20), solver=&#x27;lbfgs&#x27;)</pre></div></div></div></div></div>"
      ],
      "text/plain": [
       "MLPRegressor(activation='identity', alpha=0.001, early_stopping=True,\n",
       "             hidden_layer_sizes=(50, 20), solver='lbfgs')"
      ]
     },
     "execution_count": 206,
     "metadata": {},
     "output_type": "execute_result"
    }
   ],
   "source": [
    "tscv = TimeSeriesSplit()\n",
    "model = MLPRegressor(activation= \"identity\",\n",
    " alpha= 0.001,\n",
    " early_stopping= True,\n",
    " hidden_layer_sizes= (50, 20),\n",
    " shuffle= True,\n",
    " solver= \"lbfgs\")\n",
    "\n",
    "model2 = MLPRegressor(activation= \"identity\",\n",
    " alpha= 0.001,\n",
    " early_stopping= True,\n",
    " hidden_layer_sizes= (50, 20),\n",
    " shuffle= True,\n",
    " solver= \"lbfgs\")\n",
    "\n",
    "#https://www.analyticsvidhya.com/blog/2016/03/complete-guide-parameter-tuning-xgboost-with-codes-python/ pegar aqui gridsearch\n",
    "#feature tools: https://www.featuretools.com/\n",
    "\n",
    "\n",
    "\n",
    "model.fit(X_train,y_train)\n",
    "model2.fit(X_train,y_train2)\n"
   ]
  },
  {
   "cell_type": "code",
   "execution_count": null,
   "metadata": {},
   "outputs": [
    {
     "data": {
      "image/png": "[encoded data removed]",
      "text/plain": [
       "<Figure size 640x480 with 1 Axes>"
      ]
     },
     "metadata": {},
     "output_type": "display_data"
    }
   ],
   "source": [
    "pred = model.predict(X_test)\n",
    "plt.plot(np.arange(len(pred)),y_test)\n",
    "plt.plot(np.arange(len(pred)),pred)\n",
    "plt.ylim([-1000,10000])\n",
    "plt.show()"
   ]
  },
  {
   "cell_type": "code",
   "execution_count": null,
   "metadata": {},
   "outputs": [],
   "source": [
    "# cv_results = cross_val_score(model,X_train,y_train,cv=5,scoring=make_scorer(mean_squared_error))\n",
    "# cv_results2 = cross_val_score(model,X_train,y_train2,cv=5,scoring=make_scorer(mean_squared_error))\n",
    "\n",
    "# print(\"resultado 1: \"+str(cv_results))\n",
    "# print(\"resultado 2: \"+ str(cv_results2))"
   ]
  },
  {
   "cell_type": "code",
   "execution_count": null,
   "metadata": {},
   "outputs": [],
   "source": [
    "#cross_val_score anteriores:\n",
    "# resultado 1: [ 6591.29882165 45138.18346761 43770.83757897 72125.53988391\n",
    "#   4343.04301193]\n",
    "# resultado 2: [ 2581.08771242 14127.42286754 12749.45611702 73565.93156916\n",
    "#  48381.5037505 ]\n",
    "\n",
    "# resultado 1: [17256.37807653 39250.10928543 41945.27601829 73034.04017001\n",
    "#   7938.25355035]\n",
    "# resultado 2: [ 9033.99201005 14550.95505949 11714.98156943 72075.55120232\n",
    "#  48011.13857335]\n",
    "\n",
    "# resultado 1: [47956.52371029 39211.15036355 50611.35678332 70331.52042987\n",
    "#  30563.27569949]\n",
    "# resultado 2: [82117.76218635 29776.1417925  13406.30143254 71237.29570069\n",
    "#  63537.73954729]\n",
    "\n",
    "# resultado 1: [34493.15133236 39026.19262944 40438.42983293 72103.52944465\n",
    "#   6457.89196041]\n",
    "# resultado 2: [17717.42877256 15955.54871005 11202.64504217 70062.27743348\n",
    "#  58757.5152198 ]\n",
    "\n",
    "# tscv = TimeSeriesSplit()\n",
    "\n",
    "# model = MLPRegressor(activation= 'relu',\n",
    "#  early_stopping= True,\n",
    "#  shuffle= True,\n",
    "#  solver= \"adam\",\n",
    "#  max_iter=400)\n",
    "\n",
    "# model2 = MLPRegressor(activation= 'relu',\n",
    "#  early_stopping= True,\n",
    "#  shuffle= True,\n",
    "#  solver= \"adam\",\n",
    "#  max_iter=400)\n",
    "\n",
    "\n",
    "\n",
    "# model.fit(X_train,y_train)\n",
    "# model2.fit(X_train,y_train2)\n",
    "\n",
    "resul1 =np.mean([ 6591.29882165, 45138.18346761, 43770.83757897, 72125.53988391,   4343.04301193])\n",
    "resul2 = np.mean([47956.52371029, 39211.15036355, 50611.35678332, 70331.52042987, 30563.27569949])"
   ]
  },
  {
   "cell_type": "code",
   "execution_count": null,
   "metadata": {},
   "outputs": [
    {
     "name": "stdout",
     "output_type": "stream",
     "text": [
      "result1:34393.780552814\n"
     ]
    }
   ],
   "source": [
    "print(\"result1:\"+str(resul1))"
   ]
  },
  {
   "cell_type": "code",
   "execution_count": null,
   "metadata": {},
   "outputs": [
    {
     "name": "stdout",
     "output_type": "stream",
     "text": [
      "result2:47734.765397304\n"
     ]
    }
   ],
   "source": [
    "print(\"result2:\"+str(resul2))"
   ]
  },
  {
   "cell_type": "code",
   "execution_count": null,
   "metadata": {},
   "outputs": [
    {
     "name": "stderr",
     "output_type": "stream",
     "text": [
      "c:\\Users\\Usuario\\AppData\\Local\\Programs\\Python\\Python310\\lib\\site-packages\\sklearn\\neural_network\\_multilayer_perceptron.py:1607: DataConversionWarning: A column-vector y was passed when a 1d array was expected. Please change the shape of y to (n_samples, ), for example using ravel().\n",
      "  y = column_or_1d(y, warn=True)\n",
      "c:\\Users\\Usuario\\AppData\\Local\\Programs\\Python\\Python310\\lib\\site-packages\\sklearn\\neural_network\\_multilayer_perceptron.py:1607: DataConversionWarning: A column-vector y was passed when a 1d array was expected. Please change the shape of y to (n_samples, ), for example using ravel().\n",
      "  y = column_or_1d(y, warn=True)\n",
      "c:\\Users\\Usuario\\AppData\\Local\\Programs\\Python\\Python310\\lib\\site-packages\\sklearn\\neural_network\\_multilayer_perceptron.py:1607: DataConversionWarning: A column-vector y was passed when a 1d array was expected. Please change the shape of y to (n_samples, ), for example using ravel().\n",
      "  y = column_or_1d(y, warn=True)\n",
      "c:\\Users\\Usuario\\AppData\\Local\\Programs\\Python\\Python310\\lib\\site-packages\\sklearn\\neural_network\\_multilayer_perceptron.py:1607: DataConversionWarning: A column-vector y was passed when a 1d array was expected. Please change the shape of y to (n_samples, ), for example using ravel().\n",
      "  y = column_or_1d(y, warn=True)\n",
      "c:\\Users\\Usuario\\AppData\\Local\\Programs\\Python\\Python310\\lib\\site-packages\\sklearn\\neural_network\\_multilayer_perceptron.py:1607: DataConversionWarning: A column-vector y was passed when a 1d array was expected. Please change the shape of y to (n_samples, ), for example using ravel().\n",
      "  y = column_or_1d(y, warn=True)\n",
      "c:\\Users\\Usuario\\AppData\\Local\\Programs\\Python\\Python310\\lib\\site-packages\\sklearn\\neural_network\\_multilayer_perceptron.py:1607: DataConversionWarning: A column-vector y was passed when a 1d array was expected. Please change the shape of y to (n_samples, ), for example using ravel().\n",
      "  y = column_or_1d(y, warn=True)\n",
      "c:\\Users\\Usuario\\AppData\\Local\\Programs\\Python\\Python310\\lib\\site-packages\\sklearn\\neural_network\\_multilayer_perceptron.py:1607: DataConversionWarning: A column-vector y was passed when a 1d array was expected. Please change the shape of y to (n_samples, ), for example using ravel().\n",
      "  y = column_or_1d(y, warn=True)\n",
      "c:\\Users\\Usuario\\AppData\\Local\\Programs\\Python\\Python310\\lib\\site-packages\\sklearn\\neural_network\\_multilayer_perceptron.py:1607: DataConversionWarning: A column-vector y was passed when a 1d array was expected. Please change the shape of y to (n_samples, ), for example using ravel().\n",
      "  y = column_or_1d(y, warn=True)\n",
      "c:\\Users\\Usuario\\AppData\\Local\\Programs\\Python\\Python310\\lib\\site-packages\\sklearn\\neural_network\\_multilayer_perceptron.py:559: ConvergenceWarning: lbfgs failed to converge (status=1):\n",
      "STOP: TOTAL NO. of ITERATIONS REACHED LIMIT.\n",
      "\n",
      "Increase the number of iterations (max_iter) or scale the data as shown in:\n",
      "    https://scikit-learn.org/stable/modules/preprocessing.html\n",
      "  self.n_iter_ = _check_optimize_result(\"lbfgs\", opt_res, self.max_iter)\n",
      "c:\\Users\\Usuario\\AppData\\Local\\Programs\\Python\\Python310\\lib\\site-packages\\sklearn\\neural_network\\_multilayer_perceptron.py:1607: DataConversionWarning: A column-vector y was passed when a 1d array was expected. Please change the shape of y to (n_samples, ), for example using ravel().\n",
      "  y = column_or_1d(y, warn=True)\n",
      "c:\\Users\\Usuario\\AppData\\Local\\Programs\\Python\\Python310\\lib\\site-packages\\sklearn\\neural_network\\_multilayer_perceptron.py:1607: DataConversionWarning: A column-vector y was passed when a 1d array was expected. Please change the shape of y to (n_samples, ), for example using ravel().\n",
      "  y = column_or_1d(y, warn=True)\n"
     ]
    },
    {
     "name": "stdout",
     "output_type": "stream",
     "text": [
      "resultado 1: [34513.32341756 39117.90771673 40395.03674402 72105.93982444\n",
      "  5000.49871052]\n",
      "resultado 2: [17740.05329312 15962.15840306 11185.51566194 70064.34822008\n",
      " 58798.50324423]\n"
     ]
    },
    {
     "name": "stderr",
     "output_type": "stream",
     "text": [
      "c:\\Users\\Usuario\\AppData\\Local\\Programs\\Python\\Python310\\lib\\site-packages\\sklearn\\neural_network\\_multilayer_perceptron.py:559: ConvergenceWarning: lbfgs failed to converge (status=1):\n",
      "STOP: TOTAL NO. of ITERATIONS REACHED LIMIT.\n",
      "\n",
      "Increase the number of iterations (max_iter) or scale the data as shown in:\n",
      "    https://scikit-learn.org/stable/modules/preprocessing.html\n",
      "  self.n_iter_ = _check_optimize_result(\"lbfgs\", opt_res, self.max_iter)\n"
     ]
    }
   ],
   "source": [
    "cv_results = cross_val_score(model,X_train,y_train,cv=5,scoring=make_scorer(mean_squared_error))\n",
    "cv_results2 = cross_val_score(model2,X_train,y_train2,cv=5,scoring=make_scorer(mean_squared_error))\n",
    "\n",
    "print(\"resultado 1: \"+str(cv_results))\n",
    "print(\"resultado 2: \"+ str(cv_results2))"
   ]
  },
  {
   "cell_type": "code",
   "execution_count": null,
   "metadata": {},
   "outputs": [
    {
     "name": "stderr",
     "output_type": "stream",
     "text": [
      "c:\\Users\\Usuario\\AppData\\Local\\Programs\\Python\\Python310\\lib\\site-packages\\sklearn\\neural_network\\_multilayer_perceptron.py:1607: DataConversionWarning: A column-vector y was passed when a 1d array was expected. Please change the shape of y to (n_samples, ), for example using ravel().\n",
      "  y = column_or_1d(y, warn=True)\n",
      "c:\\Users\\Usuario\\AppData\\Local\\Programs\\Python\\Python310\\lib\\site-packages\\sklearn\\neural_network\\_multilayer_perceptron.py:559: ConvergenceWarning: lbfgs failed to converge (status=1):\n",
      "STOP: TOTAL NO. of ITERATIONS REACHED LIMIT.\n",
      "\n",
      "Increase the number of iterations (max_iter) or scale the data as shown in:\n",
      "    https://scikit-learn.org/stable/modules/preprocessing.html\n",
      "  self.n_iter_ = _check_optimize_result(\"lbfgs\", opt_res, self.max_iter)\n",
      "c:\\Users\\Usuario\\AppData\\Local\\Programs\\Python\\Python310\\lib\\site-packages\\sklearn\\neural_network\\_multilayer_perceptron.py:1607: DataConversionWarning: A column-vector y was passed when a 1d array was expected. Please change the shape of y to (n_samples, ), for example using ravel().\n",
      "  y = column_or_1d(y, warn=True)\n",
      "c:\\Users\\Usuario\\AppData\\Local\\Programs\\Python\\Python310\\lib\\site-packages\\sklearn\\neural_network\\_multilayer_perceptron.py:1607: DataConversionWarning: A column-vector y was passed when a 1d array was expected. Please change the shape of y to (n_samples, ), for example using ravel().\n",
      "  y = column_or_1d(y, warn=True)\n",
      "c:\\Users\\Usuario\\AppData\\Local\\Programs\\Python\\Python310\\lib\\site-packages\\sklearn\\neural_network\\_multilayer_perceptron.py:1607: DataConversionWarning: A column-vector y was passed when a 1d array was expected. Please change the shape of y to (n_samples, ), for example using ravel().\n",
      "  y = column_or_1d(y, warn=True)\n",
      "c:\\Users\\Usuario\\AppData\\Local\\Programs\\Python\\Python310\\lib\\site-packages\\sklearn\\neural_network\\_multilayer_perceptron.py:1607: DataConversionWarning: A column-vector y was passed when a 1d array was expected. Please change the shape of y to (n_samples, ), for example using ravel().\n",
      "  y = column_or_1d(y, warn=True)\n"
     ]
    },
    {
     "name": "stdout",
     "output_type": "stream",
     "text": [
      "[17166.79125486 15998.07743534 11205.96844547 70062.36014373\n",
      " 58767.25188379]\n"
     ]
    }
   ],
   "source": [
    "cv_results = cross_val_score(model2,X_train,y_train2,cv=5,scoring=make_scorer(mean_squared_error))\n",
    "\n",
    "\n",
    "print(cv_results)"
   ]
  },
  {
   "cell_type": "code",
   "execution_count": null,
   "metadata": {},
   "outputs": [],
   "source": [
    "df3 = pd.read_csv(\"../data/challenge/test.csv\")\n",
    "df3[\"NDX_SPX\"] = df3[\"NDX\"]/df3['SPX']\n",
    "df3[\"Dol_NDX\"] = df3[\"Dol\"]/df3[\"NDX\"]\n",
    "df3[\"IBOV_NDX\"] = df3[\"IBOV\"]/df3[\"NDX\"]\n",
    "df3[\"Dol_SPX\"] = df3[\"Dol\"]/df3[\"SPX\"]\n"
   ]
  },
  {
   "cell_type": "code",
   "execution_count": null,
   "metadata": {},
   "outputs": [],
   "source": [
    "X_test = df3.drop([\"DT_COMPTC\"],axis=1)"
   ]
  },
  {
   "cell_type": "code",
   "execution_count": null,
   "metadata": {},
   "outputs": [],
   "source": [
    "X_test = scaler.transform(X_test)"
   ]
  },
  {
   "cell_type": "code",
   "execution_count": null,
   "metadata": {},
   "outputs": [],
   "source": [
    "df3[\"cap\"] = model.predict(X_test) \n",
    "df3[\"resg\"] = model2.predict(X_test) "
   ]
  },
  {
   "cell_type": "code",
   "execution_count": null,
   "metadata": {},
   "outputs": [],
   "source": [
    "df3[\"Fluxo\"] = df3[\"cap\"] - df3[\"resg\"]"
   ]
  },
  {
   "cell_type": "code",
   "execution_count": null,
   "metadata": {},
   "outputs": [],
   "source": [
    "df4 = df3[[\"DT_COMPTC\",\"Fluxo\"]]"
   ]
  },
  {
   "cell_type": "code",
   "execution_count": null,
   "metadata": {},
   "outputs": [],
   "source": [
    "df4.to_csv(\"../organização/submission.csv\", index=False)"
   ]
  }
 ],
 "metadata": {
  "kernelspec": {
   "display_name": "Python 3.10.5 64-bit",
   "language": "python",
   "name": "python3"
  },
  "language_info": {
   "codemirror_mode": {
    "name": "ipython",
    "version": 3
   },
   "file_extension": ".py",
   "mimetype": "text/x-python",
   "name": "python",
   "nbconvert_exporter": "python",
   "pygments_lexer": "ipython3",
   "version": "3.10.5"
  },
  "orig_nbformat": 4,
  "vscode": {
   "interpreter": {
    "hash": "c63d8c7d738c2960218a10995aedf0a7f67a49a231e71037adf0440953cdb45b"
   }
  }
 },
 "nbformat": 4,
 "nbformat_minor": 2
}
