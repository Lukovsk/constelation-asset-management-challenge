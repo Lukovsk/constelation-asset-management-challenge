{
 "cells": [
  {
   "cell_type": "code",
   "execution_count": 45,
   "metadata": {},
   "outputs": [],
   "source": [
    "# imports necessary libraries\n",
    "import pandas as pd\n",
    "import numpy as np\n",
    "import matplotlib.pyplot as plt\n",
    "from sklearn.model_selection import TimeSeriesSplit,cross_val_score,GridSearchCV \n",
    "from sklearn.ensemble import RandomForestRegressor\n",
    "from sklearn.preprocessing import PolynomialFeatures,StandardScaler,MinMaxScaler\n",
    "from sklearn.metrics import mean_squared_error,make_scorer\n",
    "from sklearn.neural_network import MLPRegressor\n",
    "from xgboost import XGBRegressor"
   ]
  },
  {
   "cell_type": "code",
   "execution_count": 46,
   "metadata": {},
   "outputs": [],
   "source": [
    "# loads dataset\n",
    "df = pd.read_csv(\"../data/challenge/train.csv\")\n",
    "df2 = pd.read_csv(\"../data/challenge/additive.csv\")\n",
    "\n",
    "#adds columns\n",
    "df[\"cap\"] = df2[\"CAPTC_DIA\"]\n",
    "df[\"resg\"] = df2[\"RESG_DIA\"]\n",
    "df.drop([\"Fluxo\"],inplace=True,axis=1)\n",
    "\n",
    "df = df.drop([\"DT_COMPTC\"], axis=1)"
   ]
  },
  {
   "cell_type": "code",
   "execution_count": 47,
   "metadata": {},
   "outputs": [
    {
     "data": {
      "text/html": [
       "<div>\n",
       "<style scoped>\n",
       "    .dataframe tbody tr th:only-of-type {\n",
       "        vertical-align: middle;\n",
       "    }\n",
       "\n",
       "    .dataframe tbody tr th {\n",
       "        vertical-align: top;\n",
       "    }\n",
       "\n",
       "    .dataframe thead th {\n",
       "        text-align: right;\n",
       "    }\n",
       "</style>\n",
       "<table border=\"1\" class=\"dataframe\">\n",
       "  <thead>\n",
       "    <tr style=\"text-align: right;\">\n",
       "      <th></th>\n",
       "      <th>IBOV</th>\n",
       "      <th>Dol</th>\n",
       "      <th>NDX</th>\n",
       "      <th>SPX</th>\n",
       "      <th>cap</th>\n",
       "      <th>resg</th>\n",
       "    </tr>\n",
       "  </thead>\n",
       "  <tbody>\n",
       "    <tr>\n",
       "      <th>0</th>\n",
       "      <td>25722.0</td>\n",
       "      <td>2.6759</td>\n",
       "      <td>1603.51</td>\n",
       "      <td>1202.08</td>\n",
       "      <td>21.124</td>\n",
       "      <td>0.502</td>\n",
       "    </tr>\n",
       "    <tr>\n",
       "      <th>1</th>\n",
       "      <td>24848.0</td>\n",
       "      <td>2.7190</td>\n",
       "      <td>1571.83</td>\n",
       "      <td>1188.05</td>\n",
       "      <td>9.247</td>\n",
       "      <td>5.470</td>\n",
       "    </tr>\n",
       "    <tr>\n",
       "      <th>2</th>\n",
       "      <td>24691.8</td>\n",
       "      <td>2.7140</td>\n",
       "      <td>1563.76</td>\n",
       "      <td>1183.74</td>\n",
       "      <td>8.484</td>\n",
       "      <td>5.792</td>\n",
       "    </tr>\n",
       "    <tr>\n",
       "      <th>3</th>\n",
       "      <td>24366.9</td>\n",
       "      <td>2.7218</td>\n",
       "      <td>1557.52</td>\n",
       "      <td>1187.89</td>\n",
       "      <td>21.616</td>\n",
       "      <td>7.088</td>\n",
       "    </tr>\n",
       "    <tr>\n",
       "      <th>4</th>\n",
       "      <td>24747.2</td>\n",
       "      <td>2.7120</td>\n",
       "      <td>1564.81</td>\n",
       "      <td>1186.19</td>\n",
       "      <td>5.981</td>\n",
       "      <td>8.309</td>\n",
       "    </tr>\n",
       "    <tr>\n",
       "      <th>...</th>\n",
       "      <td>...</td>\n",
       "      <td>...</td>\n",
       "      <td>...</td>\n",
       "      <td>...</td>\n",
       "      <td>...</td>\n",
       "      <td>...</td>\n",
       "    </tr>\n",
       "    <tr>\n",
       "      <th>4116</th>\n",
       "      <td>120705.9</td>\n",
       "      <td>5.3087</td>\n",
       "      <td>13109.15</td>\n",
       "      <td>4112.50</td>\n",
       "      <td>1032.190</td>\n",
       "      <td>779.204</td>\n",
       "    </tr>\n",
       "    <tr>\n",
       "      <th>4117</th>\n",
       "      <td>121880.8</td>\n",
       "      <td>5.2728</td>\n",
       "      <td>13393.12</td>\n",
       "      <td>4173.85</td>\n",
       "      <td>1002.087</td>\n",
       "      <td>715.739</td>\n",
       "    </tr>\n",
       "    <tr>\n",
       "      <th>4118</th>\n",
       "      <td>122937.9</td>\n",
       "      <td>5.2751</td>\n",
       "      <td>13312.91</td>\n",
       "      <td>4163.29</td>\n",
       "      <td>887.584</td>\n",
       "      <td>1014.797</td>\n",
       "    </tr>\n",
       "    <tr>\n",
       "      <th>4119</th>\n",
       "      <td>122980.0</td>\n",
       "      <td>5.2613</td>\n",
       "      <td>13217.68</td>\n",
       "      <td>4127.83</td>\n",
       "      <td>981.088</td>\n",
       "      <td>603.063</td>\n",
       "    </tr>\n",
       "    <tr>\n",
       "      <th>4120</th>\n",
       "      <td>122636.3</td>\n",
       "      <td>5.3105</td>\n",
       "      <td>13237.91</td>\n",
       "      <td>4115.68</td>\n",
       "      <td>924.305</td>\n",
       "      <td>839.160</td>\n",
       "    </tr>\n",
       "  </tbody>\n",
       "</table>\n",
       "<p>4121 rows × 6 columns</p>\n",
       "</div>"
      ],
      "text/plain": [
       "          IBOV     Dol       NDX      SPX       cap      resg\n",
       "0      25722.0  2.6759   1603.51  1202.08    21.124     0.502\n",
       "1      24848.0  2.7190   1571.83  1188.05     9.247     5.470\n",
       "2      24691.8  2.7140   1563.76  1183.74     8.484     5.792\n",
       "3      24366.9  2.7218   1557.52  1187.89    21.616     7.088\n",
       "4      24747.2  2.7120   1564.81  1186.19     5.981     8.309\n",
       "...        ...     ...       ...      ...       ...       ...\n",
       "4116  120705.9  5.3087  13109.15  4112.50  1032.190   779.204\n",
       "4117  121880.8  5.2728  13393.12  4173.85  1002.087   715.739\n",
       "4118  122937.9  5.2751  13312.91  4163.29   887.584  1014.797\n",
       "4119  122980.0  5.2613  13217.68  4127.83   981.088   603.063\n",
       "4120  122636.3  5.3105  13237.91  4115.68   924.305   839.160\n",
       "\n",
       "[4121 rows x 6 columns]"
      ]
     },
     "execution_count": 47,
     "metadata": {},
     "output_type": "execute_result"
    }
   ],
   "source": [
    "df"
   ]
  },
  {
   "cell_type": "code",
   "execution_count": 48,
   "metadata": {},
   "outputs": [],
   "source": [
    "\n",
    "# def lock_lim(df):\n",
    "#     cols = df.columns\n",
    "#     for col in cols:\n",
    "#         q1 = np.percentile(df[col], 25)\n",
    "#         q3 = np.percentile(df[col], 75)\n",
    "#         iqr = q3 - q1\n",
    "#         ls = q3 + 1.5*iqr\n",
    "#         li = q1 - 1.5*iqr\n",
    "#         df[col][df[col] < li] = li\n",
    "#         df[col][df[col] > ls] = ls\n",
    "    \n",
    "#     return df\n",
    "\n",
    "# print(df.describe())\n",
    "# df = lock_lim(df)\n",
    "# print(df.describe())"
   ]
  },
  {
   "cell_type": "code",
   "execution_count": 49,
   "metadata": {},
   "outputs": [],
   "source": [
    "#características\n",
    "X_train = df.drop([\"cap\",\"resg\"],axis=1)[:3000]\n",
    "X_test = df.drop([\"cap\",\"resg\"],axis=1)[3000:]\n",
    "\n",
    "\n",
    "#resposta\n",
    "y_train = df[[\"cap\"]][:3000]\n",
    "y_test = df[[\"cap\"]][3000:]\n",
    "\n",
    "y_train2 = df[[\"resg\"]][:3000]\n",
    "y_test2 = df[[\"resg\"]][3000:]"
   ]
  },
  {
   "cell_type": "code",
   "execution_count": 50,
   "metadata": {},
   "outputs": [],
   "source": [
    "#padroniza os dados\n",
    "scaler = MinMaxScaler()\n",
    "X_train = scaler.fit_transform(X_train)\n",
    "\n",
    "X_test = scaler.fit_transform(X_test)\n"
   ]
  },
  {
   "cell_type": "code",
   "execution_count": 51,
   "metadata": {},
   "outputs": [
    {
     "data": {
      "text/html": [
       "<style>#sk-container-id-3 {color: black;background-color: white;}#sk-container-id-3 pre{padding: 0;}#sk-container-id-3 div.sk-toggleable {background-color: white;}#sk-container-id-3 label.sk-toggleable__label {cursor: pointer;display: block;width: 100%;margin-bottom: 0;padding: 0.3em;box-sizing: border-box;text-align: center;}#sk-container-id-3 label.sk-toggleable__label-arrow:before {content: \"▸\";float: left;margin-right: 0.25em;color: #696969;}#sk-container-id-3 label.sk-toggleable__label-arrow:hover:before {color: black;}#sk-container-id-3 div.sk-estimator:hover label.sk-toggleable__label-arrow:before {color: black;}#sk-container-id-3 div.sk-toggleable__content {max-height: 0;max-width: 0;overflow: hidden;text-align: left;background-color: #f0f8ff;}#sk-container-id-3 div.sk-toggleable__content pre {margin: 0.2em;color: black;border-radius: 0.25em;background-color: #f0f8ff;}#sk-container-id-3 input.sk-toggleable__control:checked~div.sk-toggleable__content {max-height: 200px;max-width: 100%;overflow: auto;}#sk-container-id-3 input.sk-toggleable__control:checked~label.sk-toggleable__label-arrow:before {content: \"▾\";}#sk-container-id-3 div.sk-estimator input.sk-toggleable__control:checked~label.sk-toggleable__label {background-color: #d4ebff;}#sk-container-id-3 div.sk-label input.sk-toggleable__control:checked~label.sk-toggleable__label {background-color: #d4ebff;}#sk-container-id-3 input.sk-hidden--visually {border: 0;clip: rect(1px 1px 1px 1px);clip: rect(1px, 1px, 1px, 1px);height: 1px;margin: -1px;overflow: hidden;padding: 0;position: absolute;width: 1px;}#sk-container-id-3 div.sk-estimator {font-family: monospace;background-color: #f0f8ff;border: 1px dotted black;border-radius: 0.25em;box-sizing: border-box;margin-bottom: 0.5em;}#sk-container-id-3 div.sk-estimator:hover {background-color: #d4ebff;}#sk-container-id-3 div.sk-parallel-item::after {content: \"\";width: 100%;border-bottom: 1px solid gray;flex-grow: 1;}#sk-container-id-3 div.sk-label:hover label.sk-toggleable__label {background-color: #d4ebff;}#sk-container-id-3 div.sk-serial::before {content: \"\";position: absolute;border-left: 1px solid gray;box-sizing: border-box;top: 0;bottom: 0;left: 50%;z-index: 0;}#sk-container-id-3 div.sk-serial {display: flex;flex-direction: column;align-items: center;background-color: white;padding-right: 0.2em;padding-left: 0.2em;position: relative;}#sk-container-id-3 div.sk-item {position: relative;z-index: 1;}#sk-container-id-3 div.sk-parallel {display: flex;align-items: stretch;justify-content: center;background-color: white;position: relative;}#sk-container-id-3 div.sk-item::before, #sk-container-id-3 div.sk-parallel-item::before {content: \"\";position: absolute;border-left: 1px solid gray;box-sizing: border-box;top: 0;bottom: 0;left: 50%;z-index: -1;}#sk-container-id-3 div.sk-parallel-item {display: flex;flex-direction: column;z-index: 1;position: relative;background-color: white;}#sk-container-id-3 div.sk-parallel-item:first-child::after {align-self: flex-end;width: 50%;}#sk-container-id-3 div.sk-parallel-item:last-child::after {align-self: flex-start;width: 50%;}#sk-container-id-3 div.sk-parallel-item:only-child::after {width: 0;}#sk-container-id-3 div.sk-dashed-wrapped {border: 1px dashed gray;margin: 0 0.4em 0.5em 0.4em;box-sizing: border-box;padding-bottom: 0.4em;background-color: white;}#sk-container-id-3 div.sk-label label {font-family: monospace;font-weight: bold;display: inline-block;line-height: 1.2em;}#sk-container-id-3 div.sk-label-container {text-align: center;}#sk-container-id-3 div.sk-container {/* jupyter's `normalize.less` sets `[hidden] { display: none; }` but bootstrap.min.css set `[hidden] { display: none !important; }` so we also need the `!important` here to be able to override the default hidden behavior on the sphinx rendered scikit-learn.org. See: https://github.com/scikit-learn/scikit-learn/issues/21755 */display: inline-block !important;position: relative;}#sk-container-id-3 div.sk-text-repr-fallback {display: none;}</style><div id=\"sk-container-id-3\" class=\"sk-top-container\"><div class=\"sk-text-repr-fallback\"><pre>XGBRegressor(base_score=0.5, booster=&#x27;gbtree&#x27;, callbacks=None,\n",
       "             colsample_bylevel=1, colsample_bynode=1, colsample_bytree=1,\n",
       "             early_stopping_rounds=None, enable_categorical=False,\n",
       "             eval_metric=None, gamma=0, gpu_id=-1, grow_policy=&#x27;depthwise&#x27;,\n",
       "             importance_type=None, interaction_constraints=&#x27;&#x27;,\n",
       "             learning_rate=0.300000012, max_bin=256, max_cat_to_onehot=4,\n",
       "             max_delta_step=0, max_depth=6, max_leaves=0, min_child_weight=1,\n",
       "             missing=nan, monotone_constraints=&#x27;()&#x27;, n_estimators=100, n_jobs=0,\n",
       "             num_parallel_tree=1, predictor=&#x27;auto&#x27;, random_state=0, reg_alpha=0,\n",
       "             reg_lambda=1, ...)</pre><b>In a Jupyter environment, please rerun this cell to show the HTML representation or trust the notebook. <br />On GitHub, the HTML representation is unable to render, please try loading this page with nbviewer.org.</b></div><div class=\"sk-container\" hidden><div class=\"sk-item\"><div class=\"sk-estimator sk-toggleable\"><input class=\"sk-toggleable__control sk-hidden--visually\" id=\"sk-estimator-id-3\" type=\"checkbox\" checked><label for=\"sk-estimator-id-3\" class=\"sk-toggleable__label sk-toggleable__label-arrow\">XGBRegressor</label><div class=\"sk-toggleable__content\"><pre>XGBRegressor(base_score=0.5, booster=&#x27;gbtree&#x27;, callbacks=None,\n",
       "             colsample_bylevel=1, colsample_bynode=1, colsample_bytree=1,\n",
       "             early_stopping_rounds=None, enable_categorical=False,\n",
       "             eval_metric=None, gamma=0, gpu_id=-1, grow_policy=&#x27;depthwise&#x27;,\n",
       "             importance_type=None, interaction_constraints=&#x27;&#x27;,\n",
       "             learning_rate=0.300000012, max_bin=256, max_cat_to_onehot=4,\n",
       "             max_delta_step=0, max_depth=6, max_leaves=0, min_child_weight=1,\n",
       "             missing=nan, monotone_constraints=&#x27;()&#x27;, n_estimators=100, n_jobs=0,\n",
       "             num_parallel_tree=1, predictor=&#x27;auto&#x27;, random_state=0, reg_alpha=0,\n",
       "             reg_lambda=1, ...)</pre></div></div></div></div></div>"
      ],
      "text/plain": [
       "XGBRegressor(base_score=0.5, booster='gbtree', callbacks=None,\n",
       "             colsample_bylevel=1, colsample_bynode=1, colsample_bytree=1,\n",
       "             early_stopping_rounds=None, enable_categorical=False,\n",
       "             eval_metric=None, gamma=0, gpu_id=-1, grow_policy='depthwise',\n",
       "             importance_type=None, interaction_constraints='',\n",
       "             learning_rate=0.300000012, max_bin=256, max_cat_to_onehot=4,\n",
       "             max_delta_step=0, max_depth=6, max_leaves=0, min_child_weight=1,\n",
       "             missing=nan, monotone_constraints='()', n_estimators=100, n_jobs=0,\n",
       "             num_parallel_tree=1, predictor='auto', random_state=0, reg_alpha=0,\n",
       "             reg_lambda=1, ...)"
      ]
     },
     "execution_count": 51,
     "metadata": {},
     "output_type": "execute_result"
    }
   ],
   "source": [
    "tscv = TimeSeriesSplit()\n",
    "model = MLPRegressor(activation= \"identity\",\n",
    " alpha= 0.001,\n",
    " early_stopping= True,\n",
    " hidden_layer_sizes= (50, 20),\n",
    " shuffle= True,\n",
    " solver= \"lbfgs\")\n",
    "\n",
    "model2 = MLPRegressor(activation= \"identity\",\n",
    " alpha= 0.001,\n",
    " early_stopping= True,\n",
    " hidden_layer_sizes= (50, 20),\n",
    " shuffle= True,\n",
    " solver= \"lbfgs\")\n",
    "\n",
    "\n",
    "\n",
    "\n",
    "model.fit(X_train,y_train)\n",
    "model2.fit(X_train,y_train2)\n"
   ]
  },
  {
   "cell_type": "code",
   "execution_count": 52,
   "metadata": {},
   "outputs": [],
   "source": [
    "# cv_results = cross_val_score(model,X_train,y_train,cv=5,scoring=make_scorer(mean_squared_error))\n",
    "# cv_results2 = cross_val_score(model,X_train,y_train2,cv=5,scoring=make_scorer(mean_squared_error))\n",
    "\n",
    "# print(\"resultado 1: \"+str(cv_results))\n",
    "# print(\"resultado 2: \"+ str(cv_results2))"
   ]
  },
  {
   "cell_type": "code",
   "execution_count": 63,
   "metadata": {},
   "outputs": [],
   "source": [
    "#cross_val_score anteriores:\n",
    "# resultado 1: [ 6591.29882165 45138.18346761 43770.83757897 72125.53988391\n",
    "#   4343.04301193]\n",
    "# resultado 2: [ 2581.08771242 14127.42286754 12749.45611702 73565.93156916\n",
    "#  48381.5037505 ]\n",
    "\n",
    "# resultado 1: [17256.37807653 39250.10928543 41945.27601829 73034.04017001\n",
    "#   7938.25355035]\n",
    "# resultado 2: [ 9033.99201005 14550.95505949 11714.98156943 72075.55120232\n",
    "#  48011.13857335]\n",
    "\n",
    "# resultado 1: [47956.52371029 39211.15036355 50611.35678332 70331.52042987\n",
    "#  30563.27569949]\n",
    "# resultado 2: [82117.76218635 29776.1417925  13406.30143254 71237.29570069\n",
    "#  63537.73954729]\n",
    "\n",
    "# tscv = TimeSeriesSplit()\n",
    "\n",
    "# model = MLPRegressor(activation= 'relu',\n",
    "#  early_stopping= True,\n",
    "#  shuffle= True,\n",
    "#  solver= \"adam\",\n",
    "#  max_iter=400)\n",
    "\n",
    "# model2 = MLPRegressor(activation= 'relu',\n",
    "#  early_stopping= True,\n",
    "#  shuffle= True,\n",
    "#  solver= \"adam\",\n",
    "#  max_iter=400)\n",
    "\n",
    "\n",
    "\n",
    "# model.fit(X_train,y_train)\n",
    "# model2.fit(X_train,y_train2)\n",
    "\n",
    "resul1 =np.mean([ 6591.29882165, 45138.18346761, 43770.83757897, 72125.53988391,   4343.04301193])\n",
    "resul2 = np.mean([47956.52371029, 39211.15036355, 50611.35678332, 70331.52042987, 30563.27569949])"
   ]
  },
  {
   "cell_type": "code",
   "execution_count": 65,
   "metadata": {},
   "outputs": [
    {
     "name": "stdout",
     "output_type": "stream",
     "text": [
      "result1:34393.780552814\n"
     ]
    }
   ],
   "source": [
    "print(\"result1:\"+str(resul1))"
   ]
  },
  {
   "cell_type": "code",
   "execution_count": 66,
   "metadata": {},
   "outputs": [
    {
     "name": "stdout",
     "output_type": "stream",
     "text": [
      "result2:47734.765397304\n"
     ]
    }
   ],
   "source": [
    "print(\"result2:\"+str(resul2))"
   ]
  },
  {
   "cell_type": "code",
   "execution_count": 54,
   "metadata": {},
   "outputs": [
    {
     "name": "stdout",
     "output_type": "stream",
     "text": [
      "resultado 1: [47956.52371029 39211.15036355 50611.35678332 70331.52042987\n",
      " 30563.27569949]\n",
      "resultado 2: [82117.76218635 29776.1417925  13406.30143254 71237.29570069\n",
      " 63537.73954729]\n"
     ]
    }
   ],
   "source": [
    "cv_results = cross_val_score(model,X_train,y_train,cv=5,scoring=make_scorer(mean_squared_error))\n",
    "cv_results2 = cross_val_score(model2,X_train,y_train2,cv=5,scoring=make_scorer(mean_squared_error))\n",
    "\n",
    "print(\"resultado 1: \"+str(cv_results))\n",
    "print(\"resultado 2: \"+ str(cv_results2))"
   ]
  },
  {
   "cell_type": "code",
   "execution_count": 55,
   "metadata": {},
   "outputs": [
    {
     "name": "stdout",
     "output_type": "stream",
     "text": [
      "[82117.76218635 29776.1417925  13406.30143254 71237.29570069\n",
      " 63537.73954729]\n"
     ]
    }
   ],
   "source": [
    "cv_results = cross_val_score(model2,X_train,y_train2,cv=5,scoring=make_scorer(mean_squared_error))\n",
    "\n",
    "\n",
    "print(cv_results)"
   ]
  },
  {
   "cell_type": "code",
   "execution_count": 56,
   "metadata": {},
   "outputs": [],
   "source": [
    "df3 = pd.read_csv(\"../data/challenge/test.csv\")\n",
    "X_test = df3.drop([\"DT_COMPTC\"],axis=1)"
   ]
  },
  {
   "cell_type": "code",
   "execution_count": 57,
   "metadata": {},
   "outputs": [
    {
     "data": {
      "text/html": [
       "<div>\n",
       "<style scoped>\n",
       "    .dataframe tbody tr th:only-of-type {\n",
       "        vertical-align: middle;\n",
       "    }\n",
       "\n",
       "    .dataframe tbody tr th {\n",
       "        vertical-align: top;\n",
       "    }\n",
       "\n",
       "    .dataframe thead th {\n",
       "        text-align: right;\n",
       "    }\n",
       "</style>\n",
       "<table border=\"1\" class=\"dataframe\">\n",
       "  <thead>\n",
       "    <tr style=\"text-align: right;\">\n",
       "      <th></th>\n",
       "      <th>IBOV</th>\n",
       "      <th>Dol</th>\n",
       "      <th>NDX</th>\n",
       "      <th>SPX</th>\n",
       "    </tr>\n",
       "  </thead>\n",
       "  <tbody>\n",
       "    <tr>\n",
       "      <th>0</th>\n",
       "      <td>122636.30</td>\n",
       "      <td>5.3105</td>\n",
       "      <td>13237.91</td>\n",
       "      <td>4115.68</td>\n",
       "    </tr>\n",
       "    <tr>\n",
       "      <th>1</th>\n",
       "      <td>122700.80</td>\n",
       "      <td>5.2846</td>\n",
       "      <td>13494.09</td>\n",
       "      <td>4159.12</td>\n",
       "    </tr>\n",
       "    <tr>\n",
       "      <th>2</th>\n",
       "      <td>122592.50</td>\n",
       "      <td>5.3662</td>\n",
       "      <td>13411.74</td>\n",
       "      <td>4155.86</td>\n",
       "    </tr>\n",
       "    <tr>\n",
       "      <th>3</th>\n",
       "      <td>124031.60</td>\n",
       "      <td>5.3185</td>\n",
       "      <td>13641.75</td>\n",
       "      <td>4197.05</td>\n",
       "    </tr>\n",
       "    <tr>\n",
       "      <th>4</th>\n",
       "      <td>122987.70</td>\n",
       "      <td>5.3320</td>\n",
       "      <td>13657.73</td>\n",
       "      <td>4188.13</td>\n",
       "    </tr>\n",
       "    <tr>\n",
       "      <th>...</th>\n",
       "      <td>...</td>\n",
       "      <td>...</td>\n",
       "      <td>...</td>\n",
       "      <td>...</td>\n",
       "    </tr>\n",
       "    <tr>\n",
       "      <th>295</th>\n",
       "      <td>98286.83</td>\n",
       "      <td>5.4704</td>\n",
       "      <td>12439.68</td>\n",
       "      <td>3959.90</td>\n",
       "    </tr>\n",
       "    <tr>\n",
       "      <th>296</th>\n",
       "      <td>99033.17</td>\n",
       "      <td>5.4988</td>\n",
       "      <td>12619.41</td>\n",
       "      <td>3998.95</td>\n",
       "    </tr>\n",
       "    <tr>\n",
       "      <th>297</th>\n",
       "      <td>98924.82</td>\n",
       "      <td>5.4976</td>\n",
       "      <td>12396.47</td>\n",
       "      <td>3961.63</td>\n",
       "    </tr>\n",
       "    <tr>\n",
       "      <th>298</th>\n",
       "      <td>100269.85</td>\n",
       "      <td>5.3589</td>\n",
       "      <td>12328.41</td>\n",
       "      <td>3966.84</td>\n",
       "    </tr>\n",
       "    <tr>\n",
       "      <th>299</th>\n",
       "      <td>99771.69</td>\n",
       "      <td>5.3497</td>\n",
       "      <td>12086.90</td>\n",
       "      <td>3921.05</td>\n",
       "    </tr>\n",
       "  </tbody>\n",
       "</table>\n",
       "<p>300 rows × 4 columns</p>\n",
       "</div>"
      ],
      "text/plain": [
       "          IBOV     Dol       NDX      SPX\n",
       "0    122636.30  5.3105  13237.91  4115.68\n",
       "1    122700.80  5.2846  13494.09  4159.12\n",
       "2    122592.50  5.3662  13411.74  4155.86\n",
       "3    124031.60  5.3185  13641.75  4197.05\n",
       "4    122987.70  5.3320  13657.73  4188.13\n",
       "..         ...     ...       ...      ...\n",
       "295   98286.83  5.4704  12439.68  3959.90\n",
       "296   99033.17  5.4988  12619.41  3998.95\n",
       "297   98924.82  5.4976  12396.47  3961.63\n",
       "298  100269.85  5.3589  12328.41  3966.84\n",
       "299   99771.69  5.3497  12086.90  3921.05\n",
       "\n",
       "[300 rows x 4 columns]"
      ]
     },
     "execution_count": 57,
     "metadata": {},
     "output_type": "execute_result"
    }
   ],
   "source": [
    "X_test"
   ]
  },
  {
   "cell_type": "code",
   "execution_count": 58,
   "metadata": {},
   "outputs": [],
   "source": [
    "X_test = scaler.fit_transform(X_test)"
   ]
  },
  {
   "cell_type": "code",
   "execution_count": 59,
   "metadata": {},
   "outputs": [],
   "source": [
    "df3[\"cap\"] = model.predict(X_test)\n",
    "df3[\"resg\"] = model2.predict(X_test)"
   ]
  },
  {
   "cell_type": "code",
   "execution_count": null,
   "metadata": {},
   "outputs": [],
   "source": []
  },
  {
   "cell_type": "code",
   "execution_count": 60,
   "metadata": {},
   "outputs": [],
   "source": [
    "df3[\"Fluxo\"] = df3[\"cap\"] - df3[\"resg\"]"
   ]
  },
  {
   "cell_type": "code",
   "execution_count": 61,
   "metadata": {},
   "outputs": [],
   "source": [
    "df4 = df3[[\"DT_COMPTC\",\"Fluxo\"]]"
   ]
  },
  {
   "cell_type": "code",
   "execution_count": 62,
   "metadata": {},
   "outputs": [],
   "source": [
    "df4.to_csv(\"../organização/submission.csv\", index=False)"
   ]
  }
 ],
 "metadata": {
  "kernelspec": {
   "display_name": "Python 3.10.5 64-bit",
   "language": "python",
   "name": "python3"
  },
  "language_info": {
   "codemirror_mode": {
    "name": "ipython",
    "version": 3
   },
   "file_extension": ".py",
   "mimetype": "text/x-python",
   "name": "python",
   "nbconvert_exporter": "python",
   "pygments_lexer": "ipython3",
   "version": "3.10.5"
  },
  "orig_nbformat": 4,
  "vscode": {
   "interpreter": {
    "hash": "c63d8c7d738c2960218a10995aedf0a7f67a49a231e71037adf0440953cdb45b"
   }
  }
 },
 "nbformat": 4,
 "nbformat_minor": 2
}
