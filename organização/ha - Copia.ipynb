{
 "cells": [
  {
   "cell_type": "code",
   "execution_count": 134,
   "metadata": {},
   "outputs": [],
   "source": [
    "# imports necessary libraries\n",
    "import pandas as pd\n",
    "import numpy as np\n",
    "import matplotlib.pyplot as plt\n",
    "from sklearn.model_selection import TimeSeriesSplit,cross_val_score,GridSearchCV \n",
    "from sklearn.ensemble import RandomForestRegressor\n",
    "from sklearn.preprocessing import PolynomialFeatures,StandardScaler,MinMaxScaler\n",
    "from sklearn.metrics import mean_squared_error,make_scorer\n",
    "from sklearn.neural_network import MLPRegressor\n",
    "from xgboost import XGBRegressor"
   ]
  },
  {
   "cell_type": "code",
   "execution_count": 135,
   "metadata": {},
   "outputs": [],
   "source": [
    "# loads dataset\n",
    "df = pd.read_csv(\"../data/challenge/train.csv\")\n",
    "df2 = pd.read_csv(\"../data/challenge/additive.csv\")\n",
    "\n",
    "#adds columns\n",
    "df[\"cap\"] = df2[\"CAPTC_DIA\"]\n",
    "df[\"resg\"] = df2[\"RESG_DIA\"]\n",
    "df.drop([\"Fluxo\"],inplace=True,axis=1)\n",
    "\n"
   ]
  },
  {
   "cell_type": "code",
   "execution_count": 136,
   "metadata": {},
   "outputs": [],
   "source": [
    "# df3 = pd.read_csv(\"../data/challenge/CBOEVolatilityIndexHistoricalData.csv\",sep=\";\")\n",
    "\n",
    "# date = {\n",
    "#     \"jan\": \"01\",\n",
    "#     \"feb\": \"02\",       \n",
    "#     \"mar\": \"03\",\n",
    "#     \"apr\": \"04\",\n",
    "#     \"may\": \"05\",\n",
    "#     \"jun\": \"06\",\n",
    "#     \"ju\": \"06\",\n",
    "#     \"jul\": \"07\",\n",
    "#     \"aug\": \"08\",\n",
    "#     \"sep\": \"09\",\n",
    "#     \"oct\": \"10\",\n",
    "#     \"nov\": \"11\",\n",
    "#     \"dec\": \"12\",\n",
    "# }\n",
    " \n",
    "# df3[\"Date\"] = df3[\"Date\"].apply(lambda x : x.replace(x[0:4],date[x[0:3].lower()]+\"/\"))\n",
    "# df3[\"Date\"] = df3[\"Date\"].apply(lambda x : x.replace(x[0:5],x[3:5]+\"/\"+x[0:2]))\n",
    "# df3[\"Date\"] =  pd.to_datetime(df3[\"Date\"])\n",
    "# df3 = df3[[\"Date\",\"Price\"]]\n",
    "# df3 =df3.sort_values(by=['Date'])\n",
    "# df[\"price\"] = df3[\"Price\"]"
   ]
  },
  {
   "cell_type": "code",
   "execution_count": 137,
   "metadata": {},
   "outputs": [
    {
     "name": "stderr",
     "output_type": "stream",
     "text": [
      "C:\\Users\\Usuario\\AppData\\Local\\Temp\\ipykernel_6312\\1514680364.py:5: SettingWithCopyWarning: \n",
      "A value is trying to be set on a copy of a slice from a DataFrame\n",
      "\n",
      "See the caveats in the documentation: https://pandas.pydata.org/pandas-docs/stable/user_guide/indexing.html#returning-a-view-versus-a-copy\n",
      "  df[coluna].iloc[0] =   df[coluna].iloc[1]\n"
     ]
    }
   ],
   "source": [
    "for coluna in [\"Dol\",\"IBOV\",\"NDX\",\"SPX\"]:\n",
    "    df[f\"{coluna}_mean\"] =df[coluna].shift(1)\n",
    "\n",
    "for coluna in [\"Dol_mean\",\"IBOV_mean\",\"NDX_mean\",\"SPX_mean\"]:\n",
    "    df[coluna].iloc[0] =   df[coluna].iloc[1] "
   ]
  },
  {
   "cell_type": "code",
   "execution_count": 138,
   "metadata": {},
   "outputs": [
    {
     "name": "stderr",
     "output_type": "stream",
     "text": [
      "C:\\Users\\Usuario\\AppData\\Local\\Temp\\ipykernel_6312\\1491831544.py:5: SettingWithCopyWarning: \n",
      "A value is trying to be set on a copy of a slice from a DataFrame\n",
      "\n",
      "See the caveats in the documentation: https://pandas.pydata.org/pandas-docs/stable/user_guide/indexing.html#returning-a-view-versus-a-copy\n",
      "  df[coluna].iloc[0] =   df[coluna].iloc[2]\n",
      "C:\\Users\\Usuario\\AppData\\Local\\Temp\\ipykernel_6312\\1491831544.py:6: SettingWithCopyWarning: \n",
      "A value is trying to be set on a copy of a slice from a DataFrame\n",
      "\n",
      "See the caveats in the documentation: https://pandas.pydata.org/pandas-docs/stable/user_guide/indexing.html#returning-a-view-versus-a-copy\n",
      "  df[coluna].iloc[1] =   df[coluna].iloc[2]\n"
     ]
    }
   ],
   "source": [
    "for coluna in [\"Dol\",\"IBOV\",\"NDX\",\"SPX\"]:\n",
    "    df[f\"{coluna}_mean2\"] =df[coluna].shift(2)\n",
    "\n",
    "for coluna in [\"Dol_mean2\",\"IBOV_mean2\",\"NDX_mean2\",\"SPX_mean2\"]:\n",
    "    df[coluna].iloc[0] =   df[coluna].iloc[2] \n",
    "    df[coluna].iloc[1] =   df[coluna].iloc[2] "
   ]
  },
  {
   "cell_type": "code",
   "execution_count": 139,
   "metadata": {},
   "outputs": [],
   "source": [
    "df[\"NDX_SPX\"] = df[\"NDX\"]/df['SPX']\n",
    "df[\"Dol_NDX\"] = df[\"Dol\"]/df[\"NDX\"]\n",
    "df[\"IBOV_NDX\"] = df[\"IBOV\"]/df[\"NDX\"]\n",
    "df[\"Dol_SPX\"] = df[\"Dol\"]/df[\"SPX\"]"
   ]
  },
  {
   "cell_type": "code",
   "execution_count": 140,
   "metadata": {},
   "outputs": [],
   "source": [
    "# df = df.merge(df3, left_on=\"DT_COMPTC\",right_on=\"Date\")\n",
    "# df = df.drop([\"Date\"], axis=1)\n",
    "df = df.drop([\"DT_COMPTC\"], axis=1)"
   ]
  },
  {
   "cell_type": "code",
   "execution_count": 141,
   "metadata": {},
   "outputs": [],
   "source": [
    "\n",
    "# def lock_lim(df):\n",
    "#     cols = df.columns\n",
    "#     for col in cols:\n",
    "#         q1 = np.percentile(df[col], 25)\n",
    "#         q3 = np.percentile(df[col], 75)\n",
    "#         iqr = q3 - q1\n",
    "#         ls = q3 + 1.5*iqr\n",
    "#         li = q1 - 1.5*iqr\n",
    "#         df[col][df[col] < li] = li\n",
    "#         df[col][df[col] > ls] = ls\n",
    "    \n",
    "#     return df\n",
    "\n",
    "# print(df.describe())\n",
    "# df = lock_lim(df)\n",
    "# print(df.describe())"
   ]
  },
  {
   "cell_type": "code",
   "execution_count": 142,
   "metadata": {},
   "outputs": [],
   "source": [
    "#características\n",
    "X_train = df.drop([\"cap\",\"resg\"],axis=1)[:2800]\n",
    "X_test = df.drop([\"cap\",\"resg\"],axis=1)[2800:]\n",
    "\n",
    "\n",
    "#resposta\n",
    "y_train = df[[\"cap\"]][:2800]\n",
    "y_test = df[[\"cap\"]][2800:]\n",
    "\n",
    "y_train2 = df[[\"resg\"]][:2800]\n",
    "y_test2 = df[[\"resg\"]][2800:]"
   ]
  },
  {
   "cell_type": "code",
   "execution_count": 143,
   "metadata": {},
   "outputs": [
    {
     "data": {
      "text/html": [
       "<div>\n",
       "<style scoped>\n",
       "    .dataframe tbody tr th:only-of-type {\n",
       "        vertical-align: middle;\n",
       "    }\n",
       "\n",
       "    .dataframe tbody tr th {\n",
       "        vertical-align: top;\n",
       "    }\n",
       "\n",
       "    .dataframe thead th {\n",
       "        text-align: right;\n",
       "    }\n",
       "</style>\n",
       "<table border=\"1\" class=\"dataframe\">\n",
       "  <thead>\n",
       "    <tr style=\"text-align: right;\">\n",
       "      <th></th>\n",
       "      <th>IBOV</th>\n",
       "      <th>Dol</th>\n",
       "      <th>NDX</th>\n",
       "      <th>SPX</th>\n",
       "      <th>cap</th>\n",
       "      <th>resg</th>\n",
       "      <th>Dol_mean</th>\n",
       "      <th>IBOV_mean</th>\n",
       "      <th>NDX_mean</th>\n",
       "      <th>SPX_mean</th>\n",
       "      <th>Dol_mean2</th>\n",
       "      <th>IBOV_mean2</th>\n",
       "      <th>NDX_mean2</th>\n",
       "      <th>SPX_mean2</th>\n",
       "      <th>NDX_SPX</th>\n",
       "      <th>Dol_NDX</th>\n",
       "      <th>IBOV_NDX</th>\n",
       "      <th>Dol_SPX</th>\n",
       "    </tr>\n",
       "  </thead>\n",
       "  <tbody>\n",
       "    <tr>\n",
       "      <th>0</th>\n",
       "      <td>25722.0</td>\n",
       "      <td>2.6759</td>\n",
       "      <td>1603.51</td>\n",
       "      <td>1202.08</td>\n",
       "      <td>21.124</td>\n",
       "      <td>0.502</td>\n",
       "      <td>2.6759</td>\n",
       "      <td>25722.0</td>\n",
       "      <td>1603.51</td>\n",
       "      <td>1202.08</td>\n",
       "      <td>2.6759</td>\n",
       "      <td>25722.0</td>\n",
       "      <td>1603.51</td>\n",
       "      <td>1202.08</td>\n",
       "      <td>1.333946</td>\n",
       "      <td>0.001669</td>\n",
       "      <td>16.041060</td>\n",
       "      <td>0.002226</td>\n",
       "    </tr>\n",
       "    <tr>\n",
       "      <th>1</th>\n",
       "      <td>24848.0</td>\n",
       "      <td>2.7190</td>\n",
       "      <td>1571.83</td>\n",
       "      <td>1188.05</td>\n",
       "      <td>9.247</td>\n",
       "      <td>5.470</td>\n",
       "      <td>2.6759</td>\n",
       "      <td>25722.0</td>\n",
       "      <td>1603.51</td>\n",
       "      <td>1202.08</td>\n",
       "      <td>2.6759</td>\n",
       "      <td>25722.0</td>\n",
       "      <td>1603.51</td>\n",
       "      <td>1202.08</td>\n",
       "      <td>1.323034</td>\n",
       "      <td>0.001730</td>\n",
       "      <td>15.808325</td>\n",
       "      <td>0.002289</td>\n",
       "    </tr>\n",
       "    <tr>\n",
       "      <th>2</th>\n",
       "      <td>24691.8</td>\n",
       "      <td>2.7140</td>\n",
       "      <td>1563.76</td>\n",
       "      <td>1183.74</td>\n",
       "      <td>8.484</td>\n",
       "      <td>5.792</td>\n",
       "      <td>2.7190</td>\n",
       "      <td>24848.0</td>\n",
       "      <td>1571.83</td>\n",
       "      <td>1188.05</td>\n",
       "      <td>2.6759</td>\n",
       "      <td>25722.0</td>\n",
       "      <td>1603.51</td>\n",
       "      <td>1202.08</td>\n",
       "      <td>1.321033</td>\n",
       "      <td>0.001736</td>\n",
       "      <td>15.790019</td>\n",
       "      <td>0.002293</td>\n",
       "    </tr>\n",
       "    <tr>\n",
       "      <th>3</th>\n",
       "      <td>24366.9</td>\n",
       "      <td>2.7218</td>\n",
       "      <td>1557.52</td>\n",
       "      <td>1187.89</td>\n",
       "      <td>21.616</td>\n",
       "      <td>7.088</td>\n",
       "      <td>2.7140</td>\n",
       "      <td>24691.8</td>\n",
       "      <td>1563.76</td>\n",
       "      <td>1183.74</td>\n",
       "      <td>2.7190</td>\n",
       "      <td>24848.0</td>\n",
       "      <td>1571.83</td>\n",
       "      <td>1188.05</td>\n",
       "      <td>1.311165</td>\n",
       "      <td>0.001748</td>\n",
       "      <td>15.644679</td>\n",
       "      <td>0.002291</td>\n",
       "    </tr>\n",
       "    <tr>\n",
       "      <th>4</th>\n",
       "      <td>24747.2</td>\n",
       "      <td>2.7120</td>\n",
       "      <td>1564.81</td>\n",
       "      <td>1186.19</td>\n",
       "      <td>5.981</td>\n",
       "      <td>8.309</td>\n",
       "      <td>2.7218</td>\n",
       "      <td>24366.9</td>\n",
       "      <td>1557.52</td>\n",
       "      <td>1187.89</td>\n",
       "      <td>2.7140</td>\n",
       "      <td>24691.8</td>\n",
       "      <td>1563.76</td>\n",
       "      <td>1183.74</td>\n",
       "      <td>1.319190</td>\n",
       "      <td>0.001733</td>\n",
       "      <td>15.814827</td>\n",
       "      <td>0.002286</td>\n",
       "    </tr>\n",
       "    <tr>\n",
       "      <th>...</th>\n",
       "      <td>...</td>\n",
       "      <td>...</td>\n",
       "      <td>...</td>\n",
       "      <td>...</td>\n",
       "      <td>...</td>\n",
       "      <td>...</td>\n",
       "      <td>...</td>\n",
       "      <td>...</td>\n",
       "      <td>...</td>\n",
       "      <td>...</td>\n",
       "      <td>...</td>\n",
       "      <td>...</td>\n",
       "      <td>...</td>\n",
       "      <td>...</td>\n",
       "      <td>...</td>\n",
       "      <td>...</td>\n",
       "      <td>...</td>\n",
       "      <td>...</td>\n",
       "    </tr>\n",
       "    <tr>\n",
       "      <th>4116</th>\n",
       "      <td>120705.9</td>\n",
       "      <td>5.3087</td>\n",
       "      <td>13109.15</td>\n",
       "      <td>4112.50</td>\n",
       "      <td>1032.190</td>\n",
       "      <td>779.204</td>\n",
       "      <td>5.3070</td>\n",
       "      <td>119710.0</td>\n",
       "      <td>13001.63</td>\n",
       "      <td>4063.04</td>\n",
       "      <td>5.2213</td>\n",
       "      <td>122964.0</td>\n",
       "      <td>13351.27</td>\n",
       "      <td>4152.10</td>\n",
       "      <td>3.187635</td>\n",
       "      <td>0.000405</td>\n",
       "      <td>9.207759</td>\n",
       "      <td>0.001291</td>\n",
       "    </tr>\n",
       "    <tr>\n",
       "      <th>4117</th>\n",
       "      <td>121880.8</td>\n",
       "      <td>5.2728</td>\n",
       "      <td>13393.12</td>\n",
       "      <td>4173.85</td>\n",
       "      <td>1002.087</td>\n",
       "      <td>715.739</td>\n",
       "      <td>5.3087</td>\n",
       "      <td>120705.9</td>\n",
       "      <td>13109.15</td>\n",
       "      <td>4112.50</td>\n",
       "      <td>5.3070</td>\n",
       "      <td>119710.0</td>\n",
       "      <td>13001.63</td>\n",
       "      <td>4063.04</td>\n",
       "      <td>3.208817</td>\n",
       "      <td>0.000394</td>\n",
       "      <td>9.100254</td>\n",
       "      <td>0.001263</td>\n",
       "    </tr>\n",
       "    <tr>\n",
       "      <th>4118</th>\n",
       "      <td>122937.9</td>\n",
       "      <td>5.2751</td>\n",
       "      <td>13312.91</td>\n",
       "      <td>4163.29</td>\n",
       "      <td>887.584</td>\n",
       "      <td>1014.797</td>\n",
       "      <td>5.2728</td>\n",
       "      <td>121880.8</td>\n",
       "      <td>13393.12</td>\n",
       "      <td>4173.85</td>\n",
       "      <td>5.3087</td>\n",
       "      <td>120705.9</td>\n",
       "      <td>13109.15</td>\n",
       "      <td>4112.50</td>\n",
       "      <td>3.197690</td>\n",
       "      <td>0.000396</td>\n",
       "      <td>9.234487</td>\n",
       "      <td>0.001267</td>\n",
       "    </tr>\n",
       "    <tr>\n",
       "      <th>4119</th>\n",
       "      <td>122980.0</td>\n",
       "      <td>5.2613</td>\n",
       "      <td>13217.68</td>\n",
       "      <td>4127.83</td>\n",
       "      <td>981.088</td>\n",
       "      <td>603.063</td>\n",
       "      <td>5.2751</td>\n",
       "      <td>122937.9</td>\n",
       "      <td>13312.91</td>\n",
       "      <td>4163.29</td>\n",
       "      <td>5.2728</td>\n",
       "      <td>121880.8</td>\n",
       "      <td>13393.12</td>\n",
       "      <td>4173.85</td>\n",
       "      <td>3.202089</td>\n",
       "      <td>0.000398</td>\n",
       "      <td>9.304205</td>\n",
       "      <td>0.001275</td>\n",
       "    </tr>\n",
       "    <tr>\n",
       "      <th>4120</th>\n",
       "      <td>122636.3</td>\n",
       "      <td>5.3105</td>\n",
       "      <td>13237.91</td>\n",
       "      <td>4115.68</td>\n",
       "      <td>924.305</td>\n",
       "      <td>839.160</td>\n",
       "      <td>5.2613</td>\n",
       "      <td>122980.0</td>\n",
       "      <td>13217.68</td>\n",
       "      <td>4127.83</td>\n",
       "      <td>5.2751</td>\n",
       "      <td>122937.9</td>\n",
       "      <td>13312.91</td>\n",
       "      <td>4163.29</td>\n",
       "      <td>3.216458</td>\n",
       "      <td>0.000401</td>\n",
       "      <td>9.264023</td>\n",
       "      <td>0.001290</td>\n",
       "    </tr>\n",
       "  </tbody>\n",
       "</table>\n",
       "<p>4121 rows × 18 columns</p>\n",
       "</div>"
      ],
      "text/plain": [
       "          IBOV     Dol       NDX      SPX       cap      resg  Dol_mean  \\\n",
       "0      25722.0  2.6759   1603.51  1202.08    21.124     0.502    2.6759   \n",
       "1      24848.0  2.7190   1571.83  1188.05     9.247     5.470    2.6759   \n",
       "2      24691.8  2.7140   1563.76  1183.74     8.484     5.792    2.7190   \n",
       "3      24366.9  2.7218   1557.52  1187.89    21.616     7.088    2.7140   \n",
       "4      24747.2  2.7120   1564.81  1186.19     5.981     8.309    2.7218   \n",
       "...        ...     ...       ...      ...       ...       ...       ...   \n",
       "4116  120705.9  5.3087  13109.15  4112.50  1032.190   779.204    5.3070   \n",
       "4117  121880.8  5.2728  13393.12  4173.85  1002.087   715.739    5.3087   \n",
       "4118  122937.9  5.2751  13312.91  4163.29   887.584  1014.797    5.2728   \n",
       "4119  122980.0  5.2613  13217.68  4127.83   981.088   603.063    5.2751   \n",
       "4120  122636.3  5.3105  13237.91  4115.68   924.305   839.160    5.2613   \n",
       "\n",
       "      IBOV_mean  NDX_mean  SPX_mean  Dol_mean2  IBOV_mean2  NDX_mean2  \\\n",
       "0       25722.0   1603.51   1202.08     2.6759     25722.0    1603.51   \n",
       "1       25722.0   1603.51   1202.08     2.6759     25722.0    1603.51   \n",
       "2       24848.0   1571.83   1188.05     2.6759     25722.0    1603.51   \n",
       "3       24691.8   1563.76   1183.74     2.7190     24848.0    1571.83   \n",
       "4       24366.9   1557.52   1187.89     2.7140     24691.8    1563.76   \n",
       "...         ...       ...       ...        ...         ...        ...   \n",
       "4116   119710.0  13001.63   4063.04     5.2213    122964.0   13351.27   \n",
       "4117   120705.9  13109.15   4112.50     5.3070    119710.0   13001.63   \n",
       "4118   121880.8  13393.12   4173.85     5.3087    120705.9   13109.15   \n",
       "4119   122937.9  13312.91   4163.29     5.2728    121880.8   13393.12   \n",
       "4120   122980.0  13217.68   4127.83     5.2751    122937.9   13312.91   \n",
       "\n",
       "      SPX_mean2   NDX_SPX   Dol_NDX   IBOV_NDX   Dol_SPX  \n",
       "0       1202.08  1.333946  0.001669  16.041060  0.002226  \n",
       "1       1202.08  1.323034  0.001730  15.808325  0.002289  \n",
       "2       1202.08  1.321033  0.001736  15.790019  0.002293  \n",
       "3       1188.05  1.311165  0.001748  15.644679  0.002291  \n",
       "4       1183.74  1.319190  0.001733  15.814827  0.002286  \n",
       "...         ...       ...       ...        ...       ...  \n",
       "4116    4152.10  3.187635  0.000405   9.207759  0.001291  \n",
       "4117    4063.04  3.208817  0.000394   9.100254  0.001263  \n",
       "4118    4112.50  3.197690  0.000396   9.234487  0.001267  \n",
       "4119    4173.85  3.202089  0.000398   9.304205  0.001275  \n",
       "4120    4163.29  3.216458  0.000401   9.264023  0.001290  \n",
       "\n",
       "[4121 rows x 18 columns]"
      ]
     },
     "execution_count": 143,
     "metadata": {},
     "output_type": "execute_result"
    }
   ],
   "source": [
    "df"
   ]
  },
  {
   "cell_type": "code",
   "execution_count": 144,
   "metadata": {},
   "outputs": [],
   "source": [
    "# padroniza os dados\n",
    "scaler = MinMaxScaler()\n",
    "X_train = scaler.fit_transform(X_train)\n",
    "\n",
    "X_test = scaler.fit_transform(X_test)\n"
   ]
  },
  {
   "cell_type": "code",
   "execution_count": 145,
   "metadata": {},
   "outputs": [
    {
     "name": "stderr",
     "output_type": "stream",
     "text": [
      "c:\\Users\\Usuario\\AppData\\Local\\Programs\\Python\\Python310\\lib\\site-packages\\sklearn\\neural_network\\_multilayer_perceptron.py:1607: DataConversionWarning: A column-vector y was passed when a 1d array was expected. Please change the shape of y to (n_samples, ), for example using ravel().\n",
      "  y = column_or_1d(y, warn=True)\n",
      "c:\\Users\\Usuario\\AppData\\Local\\Programs\\Python\\Python310\\lib\\site-packages\\sklearn\\neural_network\\_multilayer_perceptron.py:559: ConvergenceWarning: lbfgs failed to converge (status=1):\n",
      "STOP: TOTAL NO. of ITERATIONS REACHED LIMIT.\n",
      "\n",
      "Increase the number of iterations (max_iter) or scale the data as shown in:\n",
      "    https://scikit-learn.org/stable/modules/preprocessing.html\n",
      "  self.n_iter_ = _check_optimize_result(\"lbfgs\", opt_res, self.max_iter)\n",
      "c:\\Users\\Usuario\\AppData\\Local\\Programs\\Python\\Python310\\lib\\site-packages\\sklearn\\neural_network\\_multilayer_perceptron.py:1607: DataConversionWarning: A column-vector y was passed when a 1d array was expected. Please change the shape of y to (n_samples, ), for example using ravel().\n",
      "  y = column_or_1d(y, warn=True)\n",
      "c:\\Users\\Usuario\\AppData\\Local\\Programs\\Python\\Python310\\lib\\site-packages\\sklearn\\neural_network\\_multilayer_perceptron.py:559: ConvergenceWarning: lbfgs failed to converge (status=1):\n",
      "STOP: TOTAL NO. of ITERATIONS REACHED LIMIT.\n",
      "\n",
      "Increase the number of iterations (max_iter) or scale the data as shown in:\n",
      "    https://scikit-learn.org/stable/modules/preprocessing.html\n",
      "  self.n_iter_ = _check_optimize_result(\"lbfgs\", opt_res, self.max_iter)\n"
     ]
    },
    {
     "data": {
      "text/html": [
       "<style>#sk-container-id-7 {color: black;background-color: white;}#sk-container-id-7 pre{padding: 0;}#sk-container-id-7 div.sk-toggleable {background-color: white;}#sk-container-id-7 label.sk-toggleable__label {cursor: pointer;display: block;width: 100%;margin-bottom: 0;padding: 0.3em;box-sizing: border-box;text-align: center;}#sk-container-id-7 label.sk-toggleable__label-arrow:before {content: \"▸\";float: left;margin-right: 0.25em;color: #696969;}#sk-container-id-7 label.sk-toggleable__label-arrow:hover:before {color: black;}#sk-container-id-7 div.sk-estimator:hover label.sk-toggleable__label-arrow:before {color: black;}#sk-container-id-7 div.sk-toggleable__content {max-height: 0;max-width: 0;overflow: hidden;text-align: left;background-color: #f0f8ff;}#sk-container-id-7 div.sk-toggleable__content pre {margin: 0.2em;color: black;border-radius: 0.25em;background-color: #f0f8ff;}#sk-container-id-7 input.sk-toggleable__control:checked~div.sk-toggleable__content {max-height: 200px;max-width: 100%;overflow: auto;}#sk-container-id-7 input.sk-toggleable__control:checked~label.sk-toggleable__label-arrow:before {content: \"▾\";}#sk-container-id-7 div.sk-estimator input.sk-toggleable__control:checked~label.sk-toggleable__label {background-color: #d4ebff;}#sk-container-id-7 div.sk-label input.sk-toggleable__control:checked~label.sk-toggleable__label {background-color: #d4ebff;}#sk-container-id-7 input.sk-hidden--visually {border: 0;clip: rect(1px 1px 1px 1px);clip: rect(1px, 1px, 1px, 1px);height: 1px;margin: -1px;overflow: hidden;padding: 0;position: absolute;width: 1px;}#sk-container-id-7 div.sk-estimator {font-family: monospace;background-color: #f0f8ff;border: 1px dotted black;border-radius: 0.25em;box-sizing: border-box;margin-bottom: 0.5em;}#sk-container-id-7 div.sk-estimator:hover {background-color: #d4ebff;}#sk-container-id-7 div.sk-parallel-item::after {content: \"\";width: 100%;border-bottom: 1px solid gray;flex-grow: 1;}#sk-container-id-7 div.sk-label:hover label.sk-toggleable__label {background-color: #d4ebff;}#sk-container-id-7 div.sk-serial::before {content: \"\";position: absolute;border-left: 1px solid gray;box-sizing: border-box;top: 0;bottom: 0;left: 50%;z-index: 0;}#sk-container-id-7 div.sk-serial {display: flex;flex-direction: column;align-items: center;background-color: white;padding-right: 0.2em;padding-left: 0.2em;position: relative;}#sk-container-id-7 div.sk-item {position: relative;z-index: 1;}#sk-container-id-7 div.sk-parallel {display: flex;align-items: stretch;justify-content: center;background-color: white;position: relative;}#sk-container-id-7 div.sk-item::before, #sk-container-id-7 div.sk-parallel-item::before {content: \"\";position: absolute;border-left: 1px solid gray;box-sizing: border-box;top: 0;bottom: 0;left: 50%;z-index: -1;}#sk-container-id-7 div.sk-parallel-item {display: flex;flex-direction: column;z-index: 1;position: relative;background-color: white;}#sk-container-id-7 div.sk-parallel-item:first-child::after {align-self: flex-end;width: 50%;}#sk-container-id-7 div.sk-parallel-item:last-child::after {align-self: flex-start;width: 50%;}#sk-container-id-7 div.sk-parallel-item:only-child::after {width: 0;}#sk-container-id-7 div.sk-dashed-wrapped {border: 1px dashed gray;margin: 0 0.4em 0.5em 0.4em;box-sizing: border-box;padding-bottom: 0.4em;background-color: white;}#sk-container-id-7 div.sk-label label {font-family: monospace;font-weight: bold;display: inline-block;line-height: 1.2em;}#sk-container-id-7 div.sk-label-container {text-align: center;}#sk-container-id-7 div.sk-container {/* jupyter's `normalize.less` sets `[hidden] { display: none; }` but bootstrap.min.css set `[hidden] { display: none !important; }` so we also need the `!important` here to be able to override the default hidden behavior on the sphinx rendered scikit-learn.org. See: https://github.com/scikit-learn/scikit-learn/issues/21755 */display: inline-block !important;position: relative;}#sk-container-id-7 div.sk-text-repr-fallback {display: none;}</style><div id=\"sk-container-id-7\" class=\"sk-top-container\"><div class=\"sk-text-repr-fallback\"><pre>MLPRegressor(activation=&#x27;identity&#x27;, alpha=0.001, early_stopping=True,\n",
       "             hidden_layer_sizes=(50, 20), solver=&#x27;lbfgs&#x27;)</pre><b>In a Jupyter environment, please rerun this cell to show the HTML representation or trust the notebook. <br />On GitHub, the HTML representation is unable to render, please try loading this page with nbviewer.org.</b></div><div class=\"sk-container\" hidden><div class=\"sk-item\"><div class=\"sk-estimator sk-toggleable\"><input class=\"sk-toggleable__control sk-hidden--visually\" id=\"sk-estimator-id-7\" type=\"checkbox\" checked><label for=\"sk-estimator-id-7\" class=\"sk-toggleable__label sk-toggleable__label-arrow\">MLPRegressor</label><div class=\"sk-toggleable__content\"><pre>MLPRegressor(activation=&#x27;identity&#x27;, alpha=0.001, early_stopping=True,\n",
       "             hidden_layer_sizes=(50, 20), solver=&#x27;lbfgs&#x27;)</pre></div></div></div></div></div>"
      ],
      "text/plain": [
       "MLPRegressor(activation='identity', alpha=0.001, early_stopping=True,\n",
       "             hidden_layer_sizes=(50, 20), solver='lbfgs')"
      ]
     },
     "execution_count": 145,
     "metadata": {},
     "output_type": "execute_result"
    }
   ],
   "source": [
    "tscv = TimeSeriesSplit()\n",
    "# model = MLPRegressor(activation= \"identity\",\n",
    "#  alpha= 0.001,\n",
    "#  early_stopping= True,\n",
    "#  hidden_layer_sizes= (50, 20),\n",
    "#  shuffle= True,\n",
    "#  solver= \"lbfgs\")\n",
    "\n",
    "# model2 = MLPRegressor(activation= \"identity\",\n",
    "#  alpha= 0.001,\n",
    "#  early_stopping= True,\n",
    "#  hidden_layer_sizes= (50, 20),\n",
    "#  shuffle= True,\n",
    "#  solver= \"lbfgs\")\n",
    "\n",
    "#https://www.analyticsvidhya.com/blog/2016/03/complete-guide-parameter-tuning-xgboost-with-codes-python/ pegar aqui gridsearch\n",
    "#feature tools: https://www.featuretools.com/\n",
    "tscv = TimeSeriesSplit()\n",
    "model = MLPRegressor(activation= \"identity\",\n",
    " alpha= 0.001,\n",
    " early_stopping= True,\n",
    " hidden_layer_sizes= (50, 20),\n",
    " shuffle= True,\n",
    " solver= \"lbfgs\")\n",
    "\n",
    "model2 = MLPRegressor(activation= \"identity\",\n",
    " alpha= 0.001,\n",
    " early_stopping= True,\n",
    " hidden_layer_sizes= (50, 20),\n",
    " shuffle= True,\n",
    " solver= \"lbfgs\")\n",
    "\n",
    "\n",
    "model.fit(X_train,y_train)\n",
    "model2.fit(X_train,y_train2)\n"
   ]
  },
  {
   "cell_type": "code",
   "execution_count": 146,
   "metadata": {},
   "outputs": [
    {
     "data": {
      "image/png": "[encoded data removed]",
      "text/plain": [
       "<Figure size 640x480 with 1 Axes>"
      ]
     },
     "metadata": {},
     "output_type": "display_data"
    }
   ],
   "source": [
    "pred = model2.predict(X_test)\n",
    "plt.ylim(top=2000)\n",
    "plt.plot(np.arange(len(pred)),y_test)\n",
    "plt.plot(np.arange(len(pred)),pred)\n",
    "plt.ylim([-1000,1000])\n",
    "plt.show()"
   ]
  },
  {
   "cell_type": "code",
   "execution_count": 147,
   "metadata": {},
   "outputs": [
    {
     "data": {
      "image/png": "[encoded data removed]",
      "text/plain": [
       "<Figure size 640x480 with 1 Axes>"
      ]
     },
     "metadata": {},
     "output_type": "display_data"
    }
   ],
   "source": [
    "pred = model.predict(X_test)\n",
    "\n",
    "plt.plot(np.arange(len(pred)),y_test)\n",
    "plt.plot(np.arange(len(pred)),pred)\n",
    "plt.ylim([-1000,1000])\n",
    "plt.show()"
   ]
  },
  {
   "cell_type": "code",
   "execution_count": 148,
   "metadata": {},
   "outputs": [
    {
     "data": {
      "text/plain": [
       "-0.015698053847753357"
      ]
     },
     "execution_count": 148,
     "metadata": {},
     "output_type": "execute_result"
    }
   ],
   "source": [
    "model2.score(X_test,y_test2)"
   ]
  },
  {
   "cell_type": "code",
   "execution_count": 149,
   "metadata": {},
   "outputs": [
    {
     "name": "stderr",
     "output_type": "stream",
     "text": [
      "C:\\Users\\Usuario\\AppData\\Local\\Temp\\ipykernel_6312\\3885726374.py:15: SettingWithCopyWarning: \n",
      "A value is trying to be set on a copy of a slice from a DataFrame\n",
      "\n",
      "See the caveats in the documentation: https://pandas.pydata.org/pandas-docs/stable/user_guide/indexing.html#returning-a-view-versus-a-copy\n",
      "  df3[coluna].iloc[0] =   df3[coluna].iloc[1]\n",
      "C:\\Users\\Usuario\\AppData\\Local\\Temp\\ipykernel_6312\\3885726374.py:21: SettingWithCopyWarning: \n",
      "A value is trying to be set on a copy of a slice from a DataFrame\n",
      "\n",
      "See the caveats in the documentation: https://pandas.pydata.org/pandas-docs/stable/user_guide/indexing.html#returning-a-view-versus-a-copy\n",
      "  df3[coluna].iloc[0] =   df3[coluna].iloc[2]\n",
      "C:\\Users\\Usuario\\AppData\\Local\\Temp\\ipykernel_6312\\3885726374.py:22: SettingWithCopyWarning: \n",
      "A value is trying to be set on a copy of a slice from a DataFrame\n",
      "\n",
      "See the caveats in the documentation: https://pandas.pydata.org/pandas-docs/stable/user_guide/indexing.html#returning-a-view-versus-a-copy\n",
      "  df3[coluna].iloc[1] =   df3[coluna].iloc[2]\n"
     ]
    }
   ],
   "source": [
    "df3 = pd.read_csv(\"../data/challenge/test.csv\")\n",
    "# values = np.arange(3000,len(df[\"DT_COMPTC\"]))\n",
    "# for i in range(1,5):\n",
    "#     coluna = df.columns[i]\n",
    "#     plt.subplot(2,2,i)\n",
    "#     plt.plot(df[\"DT_COMPTC\"][values],df[coluna][values])\n",
    "#     plt.plot(df3[\"DT_COMPTC\"],df3[coluna])\n",
    "#     plt.title(coluna)\n",
    "# plt.show()\n",
    "\n",
    "for coluna in [\"Dol\",\"IBOV\",\"NDX\",\"SPX\"]:\n",
    "    df3[f\"{coluna}_mean\"] =df3[coluna].shift(1)\n",
    "\n",
    "for coluna in [\"Dol_mean\",\"IBOV_mean\",\"NDX_mean\",\"SPX_mean\"]:\n",
    "    df3[coluna].iloc[0] =   df3[coluna].iloc[1] \n",
    "\n",
    "for coluna in [\"Dol\",\"IBOV\",\"NDX\",\"SPX\"]:\n",
    "    df3[f\"{coluna}_mean2\"] =df3[coluna].shift(2)\n",
    "\n",
    "for coluna in [\"Dol_mean2\",\"IBOV_mean2\",\"NDX_mean2\",\"SPX_mean2\"]:\n",
    "    df3[coluna].iloc[0] =   df3[coluna].iloc[2] \n",
    "    df3[coluna].iloc[1] =   df3[coluna].iloc[2] \n",
    "\n",
    "df3[\"NDX_SPX\"] = df3[\"NDX\"]/df3['SPX']\n",
    "df3[\"Dol_NDX\"] = df3[\"Dol\"]/df3[\"NDX\"]\n",
    "df3[\"IBOV_NDX\"] = df3[\"IBOV\"]/df3[\"NDX\"]\n",
    "df3[\"Dol_SPX\"] = df3[\"Dol\"]/df3[\"SPX\"]\n"
   ]
  },
  {
   "cell_type": "code",
   "execution_count": 150,
   "metadata": {},
   "outputs": [],
   "source": [
    "X_test = df3.drop([\"DT_COMPTC\"],axis=1)"
   ]
  },
  {
   "cell_type": "code",
   "execution_count": 151,
   "metadata": {},
   "outputs": [],
   "source": [
    "X_test = scaler.fit_transform(X_test)"
   ]
  },
  {
   "cell_type": "code",
   "execution_count": 152,
   "metadata": {},
   "outputs": [],
   "source": [
    "df3[\"cap\"] = model.predict(X_test)\n",
    "df3[\"resg\"] = model2.predict(X_test)"
   ]
  },
  {
   "cell_type": "code",
   "execution_count": 153,
   "metadata": {},
   "outputs": [],
   "source": [
    "df3[\"Fluxo\"] = df3[\"cap\"] - df3[\"resg\"]"
   ]
  },
  {
   "cell_type": "code",
   "execution_count": 154,
   "metadata": {},
   "outputs": [],
   "source": [
    "df4 = df3[[\"DT_COMPTC\",\"Fluxo\"]]"
   ]
  },
  {
   "cell_type": "code",
   "execution_count": 155,
   "metadata": {},
   "outputs": [],
   "source": [
    "df4.to_csv(\"../organização/submission.csv\", index=False)"
   ]
  }
 ],
 "metadata": {
  "kernelspec": {
   "display_name": "Python 3.10.5 64-bit",
   "language": "python",
   "name": "python3"
  },
  "language_info": {
   "codemirror_mode": {
    "name": "ipython",
    "version": 3
   },
   "file_extension": ".py",
   "mimetype": "text/x-python",
   "name": "python",
   "nbconvert_exporter": "python",
   "pygments_lexer": "ipython3",
   "version": "3.10.5"
  },
  "orig_nbformat": 4,
  "vscode": {
   "interpreter": {
    "hash": "c63d8c7d738c2960218a10995aedf0a7f67a49a231e71037adf0440953cdb45b"
   }
  }
 },
 "nbformat": 4,
 "nbformat_minor": 2
}
